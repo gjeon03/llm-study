{
 "cells": [
  {
   "cell_type": "markdown",
   "id": "14287baa-4f9b-4045-b19e-246a53d9ccda",
   "metadata": {
    "id": "14287baa-4f9b-4045-b19e-246a53d9ccda"
   },
   "source": [
    "# BeautifulSoup - 정적 웹페이지 스크래핑"
   ]
  },
  {
   "cell_type": "code",
   "execution_count": null,
   "id": "0fbbecc7-20b2-413c-ac39-c43c64025722",
   "metadata": {
    "id": "0fbbecc7-20b2-413c-ac39-c43c64025722"
   },
   "outputs": [],
   "source": [
    "# 라이브러리 불러오기\n",
    "import requests\n",
    "from bs4 import BeautifulSoup "
   ]
  },
  {
   "cell_type": "code",
   "execution_count": null,
   "id": "589773c7-4d59-43c4-a563-f79b69c0c4af",
   "metadata": {},
   "outputs": [],
   "source": [
    "requests.get(\"https://www.naver.com/\")"
   ]
  },
  {
   "cell_type": "code",
   "execution_count": null,
   "id": "fb953fc9-d437-4e2a-bbdf-0a40473e9955",
   "metadata": {
    "id": "fb953fc9-d437-4e2a-bbdf-0a40473e9955",
    "outputId": "c296b5c1-96e3-4c07-a05c-2e29b844207e"
   },
   "outputs": [],
   "source": [
    "# request.get 함수로 서버에 응답 요청 (존재하는 페이지)\n",
    "url = \"https://www.python.org/\"\n",
    "resp = requests.get(url)\n",
    "print(resp)"
   ]
  },
  {
   "cell_type": "code",
   "execution_count": null,
   "id": "2e0ba7d7-cdd5-4abc-8a63-e9c409e64d17",
   "metadata": {
    "id": "2e0ba7d7-cdd5-4abc-8a63-e9c409e64d17",
    "outputId": "507394c3-e6be-4e34-dad0-90ccb1402a98"
   },
   "outputs": [],
   "source": [
    "# request.get 함수로 서버에 응답 요청 (존재하지 않는 페이지)\n",
    "url2 = \"https://www.python.org/1\"\n",
    "resp2 = requests.get(url2)\n",
    "print(resp2)"
   ]
  },
  {
   "cell_type": "markdown",
   "id": "7cd39c78-7106-4fa1-9219-ef1dfc7c47e6",
   "metadata": {
    "id": "7cd39c78-7106-4fa1-9219-ef1dfc7c47e6"
   },
   "source": [
    "## 뉴스 서비스에 접속"
   ]
  },
  {
   "cell_type": "code",
   "execution_count": null,
   "id": "86ee755a-4a07-42ff-bcdd-c46a6e2fd33f",
   "metadata": {
    "id": "86ee755a-4a07-42ff-bcdd-c46a6e2fd33f",
    "outputId": "b6b5c2fb-172e-49b8-e245-b88bbe2bc88f",
    "scrolled": true
   },
   "outputs": [],
   "source": [
    "# 뉴스 사이트\n",
    "url = \"https://news.daum.net/\"\n",
    "\n",
    "# User-agent 정보\n",
    "agent = 'Mozila/2.0'\n",
    "\n",
    "# requests.get 함수로 서버에 요청\n",
    "resp = requests.get(url, headers={'User-agent': agent})\n",
    "print(resp)"
   ]
  },
  {
   "cell_type": "code",
   "execution_count": null,
   "id": "718fef5e-40b3-4e37-a3e7-efc5ccb6c0d3",
   "metadata": {},
   "outputs": [],
   "source": [
    "# HTML 소스코드\n",
    "resp.text"
   ]
  },
  {
   "cell_type": "code",
   "execution_count": null,
   "id": "1379229c-e48d-435f-9bb3-6e6e8edc8198",
   "metadata": {
    "id": "1379229c-e48d-435f-9bb3-6e6e8edc8198",
    "outputId": "36151f01-ebef-4522-fa9b-ffe1d43ab595"
   },
   "outputs": [],
   "source": [
    "# HTML 소스코드 해석\n",
    "soup = BeautifulSoup(resp.text, 'html.parser')\n",
    "print(type(soup))"
   ]
  },
  {
   "cell_type": "code",
   "execution_count": null,
   "id": "6706d0cd-acd9-44f1-8ad0-680c1a2453f6",
   "metadata": {},
   "outputs": [],
   "source": [
    "# BeautifulSoup 객체 (HTML 소스코드 해석 결과를 저장하고 있음)\n",
    "soup"
   ]
  },
  {
   "cell_type": "code",
   "execution_count": null,
   "id": "a59f42a6-54f1-4f1f-8abc-577e7439f24a",
   "metadata": {
    "id": "a59f42a6-54f1-4f1f-8abc-577e7439f24a",
    "outputId": "5b6341dd-9098-481d-dada-3e14ad1fcb89"
   },
   "outputs": [],
   "source": [
    "# head 태그 출력\n",
    "print(soup.head)"
   ]
  },
  {
   "cell_type": "code",
   "execution_count": null,
   "id": "598f0bd5-fb55-4786-b71d-e2337b93b827",
   "metadata": {
    "id": "598f0bd5-fb55-4786-b71d-e2337b93b827"
   },
   "outputs": [],
   "source": [
    "# body 태그 출력 \n",
    "print(soup.body)"
   ]
  },
  {
   "cell_type": "code",
   "execution_count": null,
   "id": "ae521ba9-b29d-4a9e-a988-6a1d5099181a",
   "metadata": {
    "id": "ae521ba9-b29d-4a9e-a988-6a1d5099181a",
    "outputId": "d3543e65-e708-4192-90e5-d9b358649a75"
   },
   "outputs": [],
   "source": [
    "# title 태그 검색\n",
    "print('title 태그 요소: ', soup.title)\n",
    "print('title 태그 이름: ', soup.title.name)\n",
    "print('title 태그 문자열: ', soup.title.text)"
   ]
  },
  {
   "cell_type": "markdown",
   "id": "4f172f2b-d035-4ec8-b294-0afcbf7be04c",
   "metadata": {
    "id": "4f172f2b-d035-4ec8-b294-0afcbf7be04c"
   },
   "source": [
    "## find 메서드, find_all 메서드\n",
    "- [Ctrl] + [Shift] + \"i\"\n",
    "- 개발자 도구 열기"
   ]
  },
  {
   "cell_type": "markdown",
   "id": "4f5738b7-e2c0-492c-8277-0e66dd9b3c32",
   "metadata": {
    "id": "4f5738b7-e2c0-492c-8277-0e66dd9b3c32"
   },
   "source": [
    "### ul 태그"
   ]
  },
  {
   "cell_type": "code",
   "execution_count": null,
   "id": "dd067df2-f76e-41e9-9e07-d5281df27f34",
   "metadata": {
    "id": "dd067df2-f76e-41e9-9e07-d5281df27f34",
    "outputId": "ae9b5cfa-24d7-4639-d859-76a507550b55"
   },
   "outputs": [],
   "source": [
    "# find - 가장 먼저 나타나는 태그를 찾습니다\n",
    "soup.find(name='ul')"
   ]
  },
  {
   "cell_type": "code",
   "execution_count": null,
   "id": "1dce029b-fc06-43bc-98c0-eb41b59d81a6",
   "metadata": {
    "id": "1dce029b-fc06-43bc-98c0-eb41b59d81a6",
    "outputId": "928cf7a2-93ea-48e3-908b-b0dca38d733a"
   },
   "outputs": [],
   "source": [
    "# find_all - 모든 태그를 찾습니다\n",
    "ul_data = soup.find_all(name='ul')\n",
    "len(ul_data)"
   ]
  },
  {
   "cell_type": "code",
   "execution_count": null,
   "id": "8be157a1",
   "metadata": {},
   "outputs": [],
   "source": [
    "# 첫 번째 ul 태그를 출력\n",
    "ul_data[0]"
   ]
  },
  {
   "cell_type": "markdown",
   "id": "9e14fc79-1e91-4cf6-a01c-b2eda7f1128c",
   "metadata": {
    "id": "9e14fc79-1e91-4cf6-a01c-b2eda7f1128c"
   },
   "source": [
    "### 태그 속성"
   ]
  },
  {
   "cell_type": "code",
   "execution_count": null,
   "id": "7c7dbbdf-ebd0-41f6-9b34-a02e5f44d8e6",
   "metadata": {
    "id": "7c7dbbdf-ebd0-41f6-9b34-a02e5f44d8e6",
    "outputId": "b40e6221-3894-4771-aa3b-1097c8f88655"
   },
   "outputs": [],
   "source": [
    "# class 속성이 \"list_newsissue\"인 ul 태그를 모두 찾는다\n",
    "newsissue = soup.find_all(name='ul', attrs={'class':'list_newsissue'})\n",
    "len(newsissue)"
   ]
  },
  {
   "cell_type": "code",
   "execution_count": null,
   "id": "30c56e30-3e58-462e-8d0f-3e54a7a7fe7d",
   "metadata": {
    "id": "30c56e30-3e58-462e-8d0f-3e54a7a7fe7d",
    "outputId": "cf565cf1-9c5e-4056-f5f4-7ab11640a790"
   },
   "outputs": [],
   "source": [
    "print(type(newsissue))\n",
    "print(type(newsissue[0]))"
   ]
  },
  {
   "cell_type": "code",
   "execution_count": null,
   "id": "9d828018-24a0-41d9-82a9-1d5e8cade021",
   "metadata": {
    "id": "9d828018-24a0-41d9-82a9-1d5e8cade021",
    "outputId": "b6d3eb18-0614-4719-928b-85ec4e33ba20"
   },
   "outputs": [],
   "source": [
    "# 첫번째 태그 내용\n",
    "newsissue[0]"
   ]
  },
  {
   "cell_type": "markdown",
   "id": "4d2fbf6f-c79f-4d27-a6d0-0d83e1cc1287",
   "metadata": {
    "id": "4d2fbf6f-c79f-4d27-a6d0-0d83e1cc1287"
   },
   "source": [
    "## select 메서드"
   ]
  },
  {
   "cell_type": "markdown",
   "id": "4a15baaa-3bb5-4650-ad61-86489525b7ef",
   "metadata": {
    "id": "4a15baaa-3bb5-4650-ad61-86489525b7ef"
   },
   "source": [
    "### ul 태그"
   ]
  },
  {
   "cell_type": "code",
   "execution_count": null,
   "id": "069fb53e-8acf-4bd5-88eb-e371bee76353",
   "metadata": {},
   "outputs": [],
   "source": [
    "soup.select(\"ul\")"
   ]
  },
  {
   "cell_type": "code",
   "execution_count": null,
   "id": "9a9d1a24-17cf-4667-a668-6e06dc98497b",
   "metadata": {
    "id": "9a9d1a24-17cf-4667-a668-6e06dc98497b",
    "outputId": "89556d26-0343-4563-ec7b-c0b000eaf127"
   },
   "outputs": [],
   "source": [
    "ul_list = soup.select('ul')\n",
    "len(ul_list)"
   ]
  },
  {
   "cell_type": "markdown",
   "id": "d48489ab-9773-491c-8530-c7b8f08ddbb4",
   "metadata": {
    "id": "d48489ab-9773-491c-8530-c7b8f08ddbb4"
   },
   "source": [
    "### 클래스 속성자"
   ]
  },
  {
   "cell_type": "code",
   "execution_count": null,
   "id": "403ffc97-4b8d-4e59-bc5c-ebf3f382575c",
   "metadata": {
    "id": "403ffc97-4b8d-4e59-bc5c-ebf3f382575c",
    "outputId": "e5aeccc9-57af-4f64-8b29-0e5f39261341"
   },
   "outputs": [],
   "source": [
    "# class 속성값이 list_newsissue인 경우\n",
    "class_list = soup.select('.list_newsissue')\n",
    "len(class_list)"
   ]
  },
  {
   "cell_type": "code",
   "execution_count": null,
   "id": "d2abb68f-a8f6-4c06-a97b-e2fe84629102",
   "metadata": {
    "id": "d2abb68f-a8f6-4c06-a97b-e2fe84629102",
    "outputId": "de9c57b8-9e81-4e01-a61b-eb1c3ddae58b"
   },
   "outputs": [],
   "source": [
    "# class_list[0]안에 들어 있는 li 태그들\n",
    "li_list = soup.select('ul.list_newsissue > li')\n",
    "len(li_list)"
   ]
  },
  {
   "cell_type": "markdown",
   "id": "2e2831f9-097a-471b-8f77-36df2684666a",
   "metadata": {
    "id": "2e2831f9-097a-471b-8f77-36df2684666a"
   },
   "source": [
    "### ID 속성자"
   ]
  },
  {
   "cell_type": "code",
   "execution_count": null,
   "id": "e7d8bf82-1e5f-4af7-9e65-2e293a912c86",
   "metadata": {
    "id": "e7d8bf82-1e5f-4af7-9e65-2e293a912c86",
    "outputId": "9a070e29-6633-4571-d1e6-4ae2d152f6cc"
   },
   "outputs": [],
   "source": [
    "# id=\"kakaoServiceLogo\"\n",
    "\n",
    "id_list = soup.select('#kakaoServiceLogo')\n",
    "len(id_list)"
   ]
  },
  {
   "cell_type": "code",
   "execution_count": null,
   "id": "ee0ee93a-16a0-4ce8-b948-a6f4d877a7f8",
   "metadata": {
    "id": "ee0ee93a-16a0-4ce8-b948-a6f4d877a7f8",
    "outputId": "f3210eda-8c36-4782-a3a9-a49e3082d9dd"
   },
   "outputs": [],
   "source": [
    "id_list[0]"
   ]
  },
  {
   "cell_type": "markdown",
   "id": "1674bbdc-d49a-4d4b-8c8a-aa78c1b7aac1",
   "metadata": {
    "id": "1674bbdc-d49a-4d4b-8c8a-aa78c1b7aac1"
   },
   "source": [
    "## [실습] \n",
    "li_list에 들어 있는 20개의 뉴스 중에서 하나를 골라서, 뉴스 제목/뉴스 카테고리/언론사 이름/뉴스 링크를 정리합니다."
   ]
  },
  {
   "cell_type": "code",
   "execution_count": null,
   "id": "7a404257",
   "metadata": {},
   "outputs": [],
   "source": [
    "# 첫 번째 뉴스를 담고 있는 태그\n",
    "li_list[0]"
   ]
  },
  {
   "cell_type": "code",
   "execution_count": null,
   "id": "b26de72a-e135-4978-b9ba-c6f90c4bbc91",
   "metadata": {},
   "outputs": [],
   "source": [
    "# 뉴스 제목 - select\n",
    "li_list[0].select(\"a.link_txt\")[0].text.strip()"
   ]
  },
  {
   "cell_type": "code",
   "execution_count": null,
   "id": "c9063807-c497-4f7c-9cac-abc57f94fdf7",
   "metadata": {},
   "outputs": [],
   "source": [
    "# 뉴스 제목 - find \n",
    "li_list[0].find('a', attrs={'class':'link_txt'}).text.strip()"
   ]
  },
  {
   "cell_type": "code",
   "execution_count": null,
   "id": "e20f5e6f-bd65-4683-9890-0e91e60f63a9",
   "metadata": {},
   "outputs": [],
   "source": [
    "# 뉴스 링크 - select\n",
    "li_list[0].select(\"a.link_txt\")[0][\"href\"]"
   ]
  },
  {
   "cell_type": "code",
   "execution_count": null,
   "id": "a021601f-4611-45ee-b8fc-c1d998f517dd",
   "metadata": {},
   "outputs": [],
   "source": [
    "# 뉴스 링크 - find\n",
    "li_list[0].find('a', attrs={'class':'link_txt'})['href']"
   ]
  },
  {
   "cell_type": "code",
   "execution_count": null,
   "id": "70e4726d",
   "metadata": {},
   "outputs": [],
   "source": [
    "# 언론사 이름 \n",
    "[t['alt'] for t in li_list[0].find_all('img', attrs={'class':'thumb_g'}) if t['alt'] != ''][0]"
   ]
  },
  {
   "cell_type": "code",
   "execution_count": null,
   "id": "b60ae0c3-f20c-4e45-a780-029041518d93",
   "metadata": {},
   "outputs": [],
   "source": [
    "# 뉴스 카테고리 - select\n",
    "li_list[0].select(\"span.txt_category\")[0].text.strip()"
   ]
  },
  {
   "cell_type": "code",
   "execution_count": null,
   "id": "d8a751cc-6e03-4764-bef3-b0208b3ea94a",
   "metadata": {
    "id": "d8a751cc-6e03-4764-bef3-b0208b3ea94a"
   },
   "outputs": [],
   "source": [
    "# 뉴스 카테고리 - find\n",
    "li_list[0].find('span', attrs={'class':'txt_category'}).text.strip()"
   ]
  },
  {
   "cell_type": "markdown",
   "id": "4c9b678b-8dc8-4d6e-90fd-517e6d8f11fb",
   "metadata": {
    "id": "4c9b678b-8dc8-4d6e-90fd-517e6d8f11fb"
   },
   "source": [
    "## [실습] li_list에 들어 있는 20개의 뉴스를 반복문을 이용하여 하나의 데이터프레임으로 정리합니다."
   ]
  },
  {
   "cell_type": "code",
   "execution_count": null,
   "id": "b87d2b5f-bac9-43e8-859c-839f0d7e0210",
   "metadata": {
    "id": "b87d2b5f-bac9-43e8-859c-839f0d7e0210"
   },
   "outputs": [],
   "source": [
    "# 데이터를 담을 딕셔너리 객체\n",
    "data = {'title':[], 'agency':[], 'category':[], 'link':[]}\n",
    "\n",
    "# 객 태그를 반복문으로 순회하면서 아이템별로 추출해서 딕서너리 객체의 리스트 원소에 추가 \n",
    "for item in li_list:\n",
    "\n",
    "    data['title'].append(item.find('a', attrs={'class':'link_txt'}).text.strip())\n",
    "    data['link'].append(item.find('a', attrs={'class':'link_txt'})['href'])\n",
    "    try:\n",
    "        data['agency'].append([t['alt'] for t in item.find_all('img', attrs={'class':'thumb_g'}) if t['alt'] != ''][0])\n",
    "    except:\n",
    "        data['agency'].append(item.find('span', attrs={'class':'thumb_g'}).text.strip())\n",
    "        \n",
    "    data['category'].append(item.find('span', attrs={'class':'txt_category'}).text.strip())\n",
    "\n",
    "# 추출된 딕셔너리 객체를 출력해서 확인 \n",
    "data"
   ]
  },
  {
   "cell_type": "code",
   "execution_count": null,
   "id": "9b253486-4aee-4636-badf-f438421fc11b",
   "metadata": {},
   "outputs": [],
   "source": [
    "for k in data.keys():\n",
    "    print(len(data[k]))"
   ]
  },
  {
   "cell_type": "code",
   "execution_count": null,
   "id": "d36ee69f-c3c1-47d5-953d-d164a071b05a",
   "metadata": {
    "id": "d36ee69f-c3c1-47d5-953d-d164a071b05a"
   },
   "outputs": [],
   "source": [
    "import pandas as pd\n",
    "\n",
    "df = pd.DataFrame(data)\n",
    "df"
   ]
  },
  {
   "cell_type": "code",
   "execution_count": null,
   "id": "d0e79436",
   "metadata": {},
   "outputs": [],
   "source": [
    "# csv 파일로 저장\n",
    "df.to_csv('news.csv', index=False)"
   ]
  }
 ],
 "metadata": {
  "colab": {
   "provenance": []
  },
  "kernelspec": {
   "display_name": "study",
   "language": "python",
   "name": "study"
  },
  "language_info": {
   "codemirror_mode": {
    "name": "ipython",
    "version": 3
   },
   "file_extension": ".py",
   "mimetype": "text/x-python",
   "name": "python",
   "nbconvert_exporter": "python",
   "pygments_lexer": "ipython3",
   "version": "3.11.0"
  }
 },
 "nbformat": 4,
 "nbformat_minor": 5
}
