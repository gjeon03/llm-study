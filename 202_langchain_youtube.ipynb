{
 "cells": [
  {
   "cell_type": "markdown",
   "metadata": {},
   "source": [
    "# 라이브러리 불러오기"
   ]
  },
  {
   "cell_type": "code",
   "execution_count": null,
   "metadata": {},
   "outputs": [],
   "source": [
    "import pandas as pd\n",
    "import numpy as np\n",
    "\n",
    "import matplotlib.pyplot as plt\n",
    "import seaborn as sns\n",
    "import re\n",
    "\n",
    "# 한글 폰트 설정\n",
    "import matplotlib.font_manager as fm\n",
    "\n",
    "font_path = 'C:/Windows/Fonts/malgun.ttf'\n",
    "font_name = fm.FontProperties(fname=font_path).get_name()\n",
    "plt.rc('font', family=font_name)\n",
    "\n",
    "\n",
    "# 경고 문구 미표\n",
    "import warnings\n",
    "warnings.filterwarnings('ignore')"
   ]
  },
  {
   "cell_type": "markdown",
   "metadata": {},
   "source": [
    "# YouTubeSearchTool \n",
    "- 유튜브 검색해서 URL 목록을 제공하는 도구\n",
    "- 검색어: 키워드,개수"
   ]
  },
  {
   "cell_type": "code",
   "execution_count": null,
   "metadata": {},
   "outputs": [],
   "source": [
    "from langchain_community.tools import YouTubeSearchTool\n",
    "\n",
    "tool = YouTubeSearchTool()"
   ]
  },
  {
   "cell_type": "code",
   "execution_count": null,
   "metadata": {},
   "outputs": [],
   "source": [
    "results = tool.run(\"코스트코 상품 리뷰,10\")"
   ]
  },
  {
   "cell_type": "code",
   "execution_count": null,
   "metadata": {},
   "outputs": [],
   "source": [
    "# 문자열을 파이썬 리스트로 변환\n",
    "import json\n",
    "url_list = json.loads(results.replace(\"'\", '\"'))\n",
    "\n",
    "# 결과 출력\n",
    "print(url_list)"
   ]
  },
  {
   "cell_type": "code",
   "execution_count": null,
   "metadata": {},
   "outputs": [],
   "source": [
    "len(url_list)"
   ]
  },
  {
   "cell_type": "code",
   "execution_count": null,
   "metadata": {},
   "outputs": [],
   "source": [
    "url_list[0]"
   ]
  },
  {
   "cell_type": "code",
   "execution_count": null,
   "metadata": {},
   "outputs": [],
   "source": [
    "# 함수로 정의\n",
    "def search_youtube(keyword, max_results=20):\n",
    "    \"\"\"\n",
    "    유튜브에서 키워드 검색 결과를 가져오는 함수\n",
    "    Args:\n",
    "        keyword: 검색할 키워드\n",
    "        max_results: 가져올 최대 결과 수\n",
    "    Returns:\n",
    "        url_list: 검색 결과의 URL 리스트\n",
    "    \"\"\"\n",
    "    tool = YouTubeSearchTool()\n",
    "    results = tool.run(f\"{keyword},{max_results}\")\n",
    "    url_list = json.loads(results.replace(\"'\", '\"'))\n",
    "    return url_list\n",
    "\n",
    "\n",
    "# 함수 실행\n",
    "url_list = search_youtube(\"코스트코 상품 리뷰\")\n",
    "len(url_list)"
   ]
  },
  {
   "cell_type": "code",
   "execution_count": null,
   "metadata": {},
   "outputs": [],
   "source": [
    "url_list2 = search_youtube(\"코스트코 상품 리뷰\")\n",
    "len(url_list2)"
   ]
  },
  {
   "cell_type": "code",
   "execution_count": null,
   "metadata": {},
   "outputs": [],
   "source": [
    "len(set(url_list) - set(url_list2))"
   ]
  },
  {
   "cell_type": "markdown",
   "metadata": {},
   "source": [
    "# YoutubeLoader\n",
    "- url을 입력하면 유튜브 자막을 추출하여 문서 객체로 변환\n",
    "- add_video_info: 비디오 정보를 추가"
   ]
  },
  {
   "cell_type": "code",
   "execution_count": null,
   "metadata": {},
   "outputs": [],
   "source": [
    "from langchain_community.document_loaders import YoutubeLoader\n",
    "\n",
    "# 자막을 포함한 동영상 정보를 가져오기\n",
    "loader = YoutubeLoader.from_youtube_url(\n",
    "    url_list[0], \n",
    "    add_video_info=True,\n",
    "    language=[\"ko\", \"en\"],\n",
    "    translation=\"ko\",\n",
    ")\n",
    "\n",
    "docs = loader.load()\n",
    "print(len(docs))\n",
    "print(docs[0])\n",
    "print(docs[0].metadata)"
   ]
  },
  {
   "cell_type": "code",
   "execution_count": null,
   "metadata": {},
   "outputs": [],
   "source": [
    "# 함수를 정의\n",
    "def get_youtube_video_transcript(url):\n",
    "    \"\"\"\n",
    "    YouTube 동영상의 자막을 가져오는 함수\n",
    "    Args:\n",
    "        url (str): YouTube 동영상 URL\n",
    "    Returns:\n",
    "        Document: 동영상 자막 정보 객체\n",
    "    \"\"\"\n",
    "    loader = YoutubeLoader.from_youtube_url(\n",
    "        url,\n",
    "        add_video_info=True,\n",
    "        language=[\"ko\", \"en\"],\n",
    "        translation=\"ko\",\n",
    "    )\n",
    "\n",
    "    docs = loader.load()\n",
    "    return docs\n",
    "\n",
    "# 함수 실행\n",
    "docs = get_youtube_video_transcript(url_list[0])\n",
    "print(len(docs))\n",
    "print(docs[0])"
   ]
  },
  {
   "cell_type": "markdown",
   "metadata": {},
   "source": [
    "# create_extraction_chain 활용하여 요약, 추출"
   ]
  },
  {
   "cell_type": "code",
   "execution_count": null,
   "metadata": {},
   "outputs": [],
   "source": [
    "import os\n",
    "from dotenv import load_dotenv\n",
    "\n",
    "load_dotenv()\n",
    "\n",
    "OPENAI_API_KEY = os.environ[\"OPENAI_API_KEY\"]"
   ]
  },
  {
   "cell_type": "code",
   "execution_count": null,
   "metadata": {},
   "outputs": [],
   "source": [
    "docs[0]"
   ]
  },
  {
   "cell_type": "code",
   "execution_count": null,
   "metadata": {},
   "outputs": [],
   "source": [
    "from langchain.chains import create_extraction_chain\n",
    "from langchain_openai import ChatOpenAI\n",
    "from langchain_core.prompts import ChatPromptTemplate\n",
    "\n",
    "# 스키마 정의\n",
    "schema = {\n",
    "    \"properties\": {\n",
    "        \"상품_이름\": {\"type\": \"string\"},\n",
    "        \"상품_설명\": {\"type\": \"string\"},\n",
    "        \"상품_가격\": {\"type\": \"string\"},\n",
    "        \"상품_평가\": {\"type\": \"string\"},\n",
    "    },\n",
    "    \"required\": [\"상품_이름\", \"상품_설명\", \"상품_가격\", \"상품_평가\"],\n",
    "}\n",
    "\n",
    "\n",
    "# Chain 생성\n",
    "prompt_template = \"\"\"Extract and save the relevant entities mentioned \\\n",
    "in the following passage together with their properties. \n",
    "Only extract the properties mentioned in the 'information_extraction' function. \\\n",
    "When no suitable data is present, show the default value 'N/A'.\n",
    "\n",
    "Passage:\n",
    "{input}\n",
    "\"\"\" \n",
    "\n",
    "prompt = ChatPromptTemplate.from_template(prompt_template)\n",
    "llm = ChatOpenAI(temperature=0, model_name=\"gpt-3.5-turbo-0125\", api_key=OPENAI_API_KEY)\n",
    "chain = create_extraction_chain(schema=schema, llm=llm, prompt=prompt)\n",
    "\n",
    "# Chain 실행\n",
    "response = chain.invoke(docs[0])\n",
    "\n",
    "# 결과 확인\n",
    "response"
   ]
  },
  {
   "cell_type": "code",
   "execution_count": null,
   "metadata": {},
   "outputs": [],
   "source": [
    "# 결과를 판다스 데이터프레임으로 변환\n",
    "df = pd.DataFrame(response['text'])\n",
    "df.head()"
   ]
  },
  {
   "cell_type": "code",
   "execution_count": null,
   "metadata": {},
   "outputs": [],
   "source": [
    "# 전체 동영상에 대해 자막을 추출하고 엔티티를 추출\n",
    "def extract_entities_from_youtube_videos(url_list):\n",
    "    \"\"\"\n",
    "    YouTube 동영상의 자막을 가져와 엔티티를 추출하는 함수\n",
    "    Args:\n",
    "        url_list (list): YouTube 동영상 URL 리스트\n",
    "    Returns:\n",
    "        pd.DataFrame: 엔티티 추출 결과\n",
    "    \"\"\"\n",
    "    # 스키마 정의\n",
    "    schema = {\n",
    "        \"properties\": {\n",
    "            \"상품_이름\": {\"type\": \"string\"},\n",
    "            \"상품_설명\": {\"type\": \"string\"},\n",
    "            \"상품_가격\": {\"type\": \"string\"},\n",
    "            \"상품_평가\": {\"type\": \"string\"},\n",
    "        },\n",
    "        \"required\": [\"상품_이름\", \"상품_설명\", \"상품_가격\", \"상품_평가\"],\n",
    "    }\n",
    "\n",
    "    # Chain 생성\n",
    "    prompt_template = \"\"\"Extract and save the relevant entities mentioned \\\n",
    "    in the following passage together with their properties. \n",
    "    Only extract the properties mentioned in the 'information_extraction' function. \\\n",
    "    When no suitable data is present, show the default value 'N/A'.\n",
    "\n",
    "    Passage:\n",
    "    {input}\n",
    "    \"\"\" \n",
    "\n",
    "    prompt = ChatPromptTemplate.from_template(prompt_template)\n",
    "    llm = ChatOpenAI(temperature=0, model_name=\"gpt-3.5-turbo-0125\", api_key=OPENAI_API_KEY)\n",
    "    chain = create_extraction_chain(schema=schema, llm=llm, prompt=prompt)\n",
    "\n",
    "    # 결과를 저장할 데이터프레임 생성\n",
    "    df = pd.DataFrame()\n",
    "\n",
    "    for url in url_list:\n",
    "        # 동영상 자막 가져오기\n",
    "        docs = get_youtube_video_transcript(url)\n",
    "\n",
    "        # Chain 실행\n",
    "        response = chain.invoke(docs[0])\n",
    "\n",
    "        # 결과를 데이터프레임으로 변환\n",
    "        df = pd.concat([df, pd.DataFrame(response['text'])])\n",
    "\n",
    "    return df"
   ]
  },
  {
   "cell_type": "code",
   "execution_count": null,
   "metadata": {},
   "outputs": [],
   "source": [
    "df = extract_entities_from_youtube_videos(url_list[:2])\n",
    "df"
   ]
  },
  {
   "cell_type": "markdown",
   "metadata": {},
   "source": [
    "# 유튜브 동영상 댓글 분석\n",
    "삼성 SDS 채널 구독 이벤트   \n",
    "https://www.youtube.com/watch?v=j_EciRV3V1k&t=15s"
   ]
  },
  {
   "cell_type": "markdown",
   "metadata": {},
   "source": [
    "## 댓글 데이터 크롤링으로 수집"
   ]
  },
  {
   "cell_type": "code",
   "execution_count": null,
   "metadata": {},
   "outputs": [],
   "source": [
    "# 삼성 SDS 채널 구독 이벤트 \n",
    "\n",
    "url = \"https://www.youtube.com/watch?v=j_EciRV3V1k&t=15s\""
   ]
  },
  {
   "cell_type": "code",
   "execution_count": null,
   "metadata": {},
   "outputs": [],
   "source": [
    "# Seleium 드라이버 생성\n",
    "from selenium import webdriver\n",
    "from selenium.webdriver.chrome.service import Service\n",
    "from webdriver_manager.chrome import ChromeDriverManager\n",
    "\n",
    "from selenium.webdriver.common.keys import Keys\n",
    "from selenium.webdriver.common.by import By\n",
    "\n",
    "from bs4 import BeautifulSoup\n",
    "import time\n",
    "import random\n",
    "\n",
    "# Chrome 옵션 설정\n",
    "options = webdriver.ChromeOptions()\n",
    "# options.add_argument('--headless')  \n",
    "\n",
    "# 드라이버 서비스 생성\n",
    "service = Service(ChromeDriverManager().install())\n",
    "\n",
    "# 웹 드라이버 초기화\n",
    "driver = webdriver.Chrome(service=service, options=options)\n",
    "\n",
    "# 윈도우 크기 설정\n",
    "driver.set_window_size(800, 600)\n",
    "\n",
    "# URL 접속하여 실행\n",
    "driver.implicitly_wait(5)\n",
    "driver.get(url)\n",
    "\n",
    "# 팝업의 '아니요' 버튼을 클릭하여 닫기\n",
    "try:\n",
    "    dismiss_button = driver.find_element(By.CSS_SELECTOR, \"#dismiss-button button\")\n",
    "    dismiss_button.click()\n",
    "except:\n",
    "    pass "
   ]
  },
  {
   "cell_type": "code",
   "execution_count": null,
   "metadata": {},
   "outputs": [],
   "source": [
    "# 현재 페이지 높이\n",
    "current_page_height = driver.execute_script(\"return document.documentElement.scrollHeight\") \n",
    "print(current_page_height)\n",
    "\n",
    "\n",
    "# 스크롤 다운\n",
    "while current_page_height < 100000: \n",
    "    \n",
    "    driver.execute_script(f\"window.scrollTo({current_page_height}, {current_page_height + 10000});\") \n",
    "    time.sleep(random.randint(1, 4))\n",
    "    body = driver.find_element(By.CSS_SELECTOR, 'body')\n",
    "    body.send_keys(Keys.PAGE_DOWN)\n",
    "    time.sleep(random.randint(1, 4))\n",
    "    \n",
    "    scrolled_page_height = driver.execute_script(\"return document.documentElement.scrollHeight\")  \n",
    "    if scrolled_page_height == current_page_height: \n",
    "        break\n",
    "    current_page_height = driver.execute_script(\"return document.documentElement.scrollHeight\")     \n"
   ]
  },
  {
   "cell_type": "code",
   "execution_count": null,
   "metadata": {},
   "outputs": [],
   "source": [
    "# HTML 소스 파싱 \n",
    "html = driver.page_source\n",
    "soup = BeautifulSoup(html, 'html.parser')\n",
    "soup.find(name=\"div\", attrs={\"id\":\"contents\"})\n",
    "\n",
    "# 댓글 요소를 찾기\n",
    "reviews = soup.find_all(name='ytd-comment-thread-renderer', attrs={'class':'style-scope ytd-item-section-renderer'})\n",
    "\n",
    "print(len(reviews))\n",
    "print(reviews[2])"
   ]
  },
  {
   "cell_type": "code",
   "execution_count": null,
   "metadata": {},
   "outputs": [],
   "source": [
    "### 사용자 이름\n",
    "#author-text > span\n",
    "reviews[2].select(\"#author-text > span\")[0].text.strip()"
   ]
  },
  {
   "cell_type": "code",
   "execution_count": null,
   "metadata": {},
   "outputs": [],
   "source": [
    "### 댓글 텍스트\n",
    "#content-text\n",
    "reviews[2].select(\"#content-text\")[0].text"
   ]
  },
  {
   "cell_type": "code",
   "execution_count": null,
   "metadata": {},
   "outputs": [],
   "source": [
    "### 날짜\n",
    "#published-time-text\n",
    "reviews[2].select(\"#published-time-text\")[0].text.strip()"
   ]
  },
  {
   "cell_type": "code",
   "execution_count": null,
   "metadata": {},
   "outputs": [],
   "source": [
    "### 리뷰 정보(이름, 댓글, 날짜)를 추출하는 함수 정의\n",
    "def get_review_info(review):\n",
    "    \"\"\"\n",
    "    댓글 요소에서 사용자 이름, 댓글, 날짜를 추출하는 함수\n",
    "    Args:\n",
    "        review: 댓글 요소\n",
    "    Returns:\n",
    "        dict: 사용자 이름, 댓글, 날짜 정보를 담은 딕셔너리\n",
    "    \"\"\"\n",
    "    author = review.select(\"#author-text > span\")[0].text.strip()\n",
    "    comment = review.select(\"#content-text\")[0].text\n",
    "    date = review.select(\"#published-time-text\")[0].text.strip()\n",
    "    return {\"author\": author, \"comment\": comment, \"date\": date}\n",
    "\n",
    "\n",
    "# 리뷰 정보 추출\n",
    "review_info = get_review_info(reviews[2])\n",
    "print(review_info)"
   ]
  },
  {
   "cell_type": "code",
   "execution_count": null,
   "metadata": {},
   "outputs": [],
   "source": [
    "from datetime import datetime\n",
    "from dateutil.relativedelta import relativedelta\n",
    "\n",
    "def convert_time_strings(time_str, current_time=None):\n",
    "    \"\"\"\n",
    "    시간 문자열을 datetime 객체로 변환하는 함수\n",
    "    Args:\n",
    "        time_str: 시간 문자열\n",
    "        current_time: 기준 시간\n",
    "    Returns:\n",
    "        datetime: 변환된 datetime 객체\n",
    "    \"\"\"\n",
    "    if current_time is None:\n",
    "        current_time = datetime.now()\n",
    "\n",
    "    time_str = time_str.replace(\" \", \"\").strip()\n",
    "\n",
    "    if \"분전\" in time_str:\n",
    "        minutes = time_str.replace(\"분전\", \"\")\n",
    "        minutes = re.sub(\"[^0-9]\", \"\", minutes)\n",
    "        minutes = int(minutes)\n",
    "        return (current_time - relativedelta(minutes=minutes)).strftime(\"%Y-%m-%d %H:%M:%S\")\n",
    "        \n",
    "    elif \"시간전\" in time_str:\n",
    "        hours = time_str.replace(\"시간전\", \"\")\n",
    "        hours = re.sub(\"[^0-9]\", \"\", hours)\n",
    "        hours = int(hours)\n",
    "        return (current_time - relativedelta(hours=hours)).strftime(\"%Y-%m-%d %H:%M:%S\")\n",
    "    \n",
    "    elif \"일전\" in time_str:\n",
    "        days = time_str.replace(\"일전\", \"\")\n",
    "        days = re.sub(\"[^0-9]\", \"\", days)\n",
    "        days = int(days)\n",
    "        return (current_time - relativedelta(days=days)).strftime(\"%Y-%m-%d %H:%M:%S\")\n",
    "    elif \"주전\" in time_str:\n",
    "        weeks = time_str.replace(\"주전\", \"\")\n",
    "        weeks = re.sub(\"[^0-9]\", \"\", weeks)\n",
    "        weeks = int(weeks)\n",
    "        return (current_time - relativedelta(weeks=weeks)).strftime(\"%Y-%m-%d %H:%M:%S\")\n",
    "    elif \"개월전\" in time_str:\n",
    "        months = time_str.replace(\"개월전\", \"\")\n",
    "        months = re.sub(\"[^0-9]\", \"\", months)\n",
    "        months = int(months)\n",
    "        return (current_time - relativedelta(months=months)).strftime(\"%Y-%m-%d %H:%M:%S\")\n",
    "    elif \"년전\" in time_str:\n",
    "        years = time_str.replace(\"년전\", \"\")\n",
    "        years = re.sub(\"[^0-9]\", \"\", years)\n",
    "        years = int(years)\n",
    "        return (current_time - relativedelta(years=years)).strftime(\"%Y-%m-%d %H:%M:%S\")\n",
    "    else:\n",
    "        try:\n",
    "            time_str = (time_str).strftime(\"%Y-%m-%d %H:%M:%S\")\n",
    "        except:\n",
    "            time_str = np.nan\n",
    "        return time_str\n",
    "    \n",
    "# 시간 문자열 변환\n",
    "time_str = \"1시간전\"\n",
    "converted_time = convert_time_strings(time_str)\n",
    "print(converted_time)"
   ]
  },
  {
   "cell_type": "code",
   "execution_count": null,
   "metadata": {},
   "outputs": [],
   "source": [
    "### 리뷰 정보(이름, 댓글, 좋아요, 날짜)를 추출하는 함수 정의\n",
    "def get_review_info(review):\n",
    "    \"\"\"\n",
    "    댓글 요소에서 사용자 이름, 댓글, 날짜를 추출하는 함수\n",
    "    Args:\n",
    "        review: 댓글 요소\n",
    "    Returns:\n",
    "        dict: 사용자 이름, 댓글, 날짜 정보를 담은 딕셔너리\n",
    "    \"\"\"\n",
    "    author = review.select(\"#author-text > span\")[0].text.strip()\n",
    "    comment = review.select(\"#content-text\")[0].text\n",
    "    date = review.select(\"#published-time-text\")[0].text.strip()\n",
    "    try:\n",
    "        date = convert_time_strings(date)\n",
    "    except:\n",
    "        pass\n",
    "    return {\"author\": author, \"comment\": comment, \"date\": date}\n",
    "\n",
    "\n",
    "# 리뷰 정보 추출\n",
    "review_info = get_review_info(reviews[2])\n",
    "print(review_info)"
   ]
  },
  {
   "cell_type": "code",
   "execution_count": null,
   "metadata": {},
   "outputs": [],
   "source": [
    "### 한 페이지의 모든 리뷰를 반복문으로 추출하는 함수 정의\n",
    "\n",
    "def get_youtube_reviews(url):\n",
    "    \"\"\"\n",
    "    한 페이지의 모든 리뷰를 추출하는 함수\n",
    "    Args:\n",
    "        url: YouTube 동영상 URL\n",
    "    Returns:\n",
    "        list: 리뷰 정보 딕셔너리를 담은 리스트\n",
    "    \"\"\"\n",
    "    # driver 설정\n",
    "    options = webdriver.ChromeOptions()\n",
    "    options.add_argument('--headless')  \n",
    "    service = Service(ChromeDriverManager().install())\n",
    "    driver = webdriver.Chrome(service=service, options=options)\n",
    "    driver.set_window_size(800, 600)\n",
    "    driver.get(url)\n",
    "    driver.implicitly_wait(5)\n",
    "    time.sleep(5)\n",
    "\n",
    "    # 팝업 닫기\n",
    "    try:\n",
    "        dismiss_button = driver.find_element(By.CSS_SELECTOR, \"#dismiss-button button\")\n",
    "        dismiss_button.click()\n",
    "    except:\n",
    "        pass\n",
    "\n",
    "    driver.implicitly_wait(5)\n",
    "    time.sleep(5)\n",
    "   \n",
    "    current_page_height = driver.execute_script(\"return document.documentElement.scrollHeight\") \n",
    "    while current_page_height < 100000: \n",
    "        driver.execute_script(f\"window.scrollTo({current_page_height}, {current_page_height + 10000});\") \n",
    "        time.sleep(random.randint(1, 4))\n",
    "        body = driver.find_element(By.CSS_SELECTOR, 'body')\n",
    "        body.send_keys(Keys.PAGE_DOWN)\n",
    "        time.sleep(random.randint(1, 4))\n",
    "        scrolled_page_height = driver.execute_script(\"return document.documentElement.scrollHeight\")  \n",
    "        if scrolled_page_height == current_page_height: \n",
    "            break\n",
    "        current_page_height = driver.execute_script(\"return document.documentElement.scrollHeight\")  \n",
    "\n",
    "    # HTML 추출하고 driver 닫기\n",
    "    driver.implicitly_wait(5)\n",
    "    html = driver.page_source\n",
    "    driver.close()\n",
    "    \n",
    "    # HTML 파싱\n",
    "    soup = BeautifulSoup(html, 'html.parser')\n",
    "    reviews = soup.find_all(name='ytd-comment-thread-renderer', attrs={'class':'style-scope ytd-item-section-renderer'})\n",
    "    review_list = []\n",
    "    for review in reviews:\n",
    "        review_info = get_review_info(review)\n",
    "        review_list.append(review_info)\n",
    "    return review_list\n",
    "\n",
    "\n",
    "# 함수 실행\n",
    "reviews = get_youtube_reviews(url)\n",
    "print(len(reviews))\n",
    "print(reviews[0])"
   ]
  },
  {
   "cell_type": "code",
   "execution_count": null,
   "metadata": {},
   "outputs": [],
   "source": [
    "# 판다스 데이터프레임으로 변환\n",
    "df = pd.DataFrame(reviews)\n",
    "df.head()"
   ]
  },
  {
   "cell_type": "code",
   "execution_count": null,
   "metadata": {},
   "outputs": [],
   "source": [
    "# 수집한 데이터를 저장\n",
    "df.to_csv(\"youtube_reviews.csv\", index=False)"
   ]
  },
  {
   "cell_type": "code",
   "execution_count": null,
   "metadata": {},
   "outputs": [],
   "source": [
    "# 저장해둔 데이터를 불러오는 코드\n",
    "df = pd.read_csv(\"youtube_reviews.csv\")"
   ]
  },
  {
   "cell_type": "code",
   "execution_count": null,
   "metadata": {},
   "outputs": [],
   "source": [
    "pd.to_datetime(df['date']).describe()"
   ]
  },
  {
   "cell_type": "markdown",
   "metadata": {},
   "source": [
    "## 시간에 따른 리뷰 수의 변화를 그래프로 시각화"
   ]
  },
  {
   "cell_type": "code",
   "execution_count": null,
   "metadata": {},
   "outputs": [],
   "source": [
    "# 날짜 데이터를 datetime 객체로 변환\n",
    "df['date'] = pd.to_datetime(df['date'])\n",
    "\n",
    "# 날짜별로 데이터를 그룹화하고 리뷰 수를 계산\n",
    "review_counts = df.groupby(df['date'].dt.date).size()\n",
    "\n",
    "# 그래프로 시각화\n",
    "plt.figure(figsize=(10, 4))\n",
    "review_counts.plot(kind='line', marker='o', linestyle='-')\n",
    "plt.title('Daily Review Counts Over Time')\n",
    "plt.xlabel('Date')\n",
    "plt.ylabel('Number of Reviews')\n",
    "plt.grid(True)\n",
    "plt.show()\n"
   ]
  },
  {
   "cell_type": "markdown",
   "metadata": {},
   "source": [
    "## Huggingface Pipleline 으로 감성 분석"
   ]
  },
  {
   "cell_type": "code",
   "execution_count": null,
   "metadata": {},
   "outputs": [],
   "source": [
    "from transformers import pipeline\n",
    "sentiment_pipeline = pipeline(model=\"dudcjs2779/sentiment-analysis-with-klue-bert-base\")\n",
    "data = [\"너무 좋아요\", \"조금 아쉬웠어요\", \"좋은지 나쁜지 모르겠어요\", \"최악이에요\", \"최고에요\"]\n",
    "sentiment_pipeline(data)"
   ]
  },
  {
   "cell_type": "code",
   "execution_count": null,
   "metadata": {},
   "outputs": [],
   "source": [
    "df['comment'].str.len().describe()"
   ]
  },
  {
   "cell_type": "code",
   "execution_count": null,
   "metadata": {},
   "outputs": [],
   "source": [
    "df[df['comment'].str.len() < 10]"
   ]
  },
  {
   "cell_type": "code",
   "execution_count": null,
   "metadata": {},
   "outputs": [],
   "source": [
    "# 리뷰에 대한 감정 분석 결과를 긍정, 부정으로 예측 \n",
    "def analyze_sentiment_classification(review):\n",
    "    \"\"\"\n",
    "    리뷰에 대한 감정 분석 결과를 중립(LABEL_0), 긍정(LABEL_1), 부정(LABEL_2)로 분류\n",
    "    Args:\n",
    "        review: 리뷰 텍스트\n",
    "    Returns:\n",
    "        float: 감정 분석 결과\n",
    "    \"\"\"\n",
    "    sentiment_pipeline = pipeline(model=\"dudcjs2779/sentiment-analysis-with-klue-bert-base\")\n",
    "    sentiment = sentiment_pipeline([str(review)[:100]])[0]\n",
    "    \n",
    "    return sentiment['label']\n",
    "\n",
    "# 함수 실행\n",
    "sentiment_labels = analyze_sentiment_classification(data[0])\n",
    "sentiment_labels"
   ]
  },
  {
   "cell_type": "code",
   "execution_count": null,
   "metadata": {},
   "outputs": [],
   "source": [
    "data[0]"
   ]
  },
  {
   "cell_type": "code",
   "execution_count": null,
   "metadata": {},
   "outputs": [],
   "source": [
    "df['comment'].head()"
   ]
  },
  {
   "cell_type": "code",
   "execution_count": null,
   "metadata": {},
   "outputs": [],
   "source": [
    "# HTML 태그 제거\n",
    "df['comment'] = df['comment'].str.replace('[^A-Za-z0-9가-힣ㄱ-ㅎ\\ ]', '', regex=True)\n",
    "df['comment'].head()"
   ]
  },
  {
   "cell_type": "code",
   "execution_count": null,
   "metadata": {},
   "outputs": [],
   "source": [
    "# 리뷰에 대한 감정 분석 결과를 데이터프레임에 추가\n",
    "df['sentiment_class'] = df['comment'].apply(analyze_sentiment_classification)\n",
    "df.head()"
   ]
  },
  {
   "cell_type": "code",
   "execution_count": null,
   "metadata": {},
   "outputs": [],
   "source": [
    "# df.to_csv(\"youtube_reviews_classification.csv\", index=False)\n",
    "df = pd.read_csv(\"youtube_reviews_classification.csv\")\n",
    "df.head()"
   ]
  },
  {
   "cell_type": "code",
   "execution_count": null,
   "metadata": {},
   "outputs": [],
   "source": [
    "# 감성 분석 결과를 막대 그래프로 비교\n",
    "plt.figure(figsize=(10, 3))\n",
    "sns.countplot(x='sentiment_class', data=df)\n",
    "plt.show()"
   ]
  },
  {
   "cell_type": "code",
   "execution_count": null,
   "metadata": {},
   "outputs": [],
   "source": [
    "# 부정 감성을 갖고 있는 데이터를 확인 \n",
    "df[df['sentiment_class']==\"LABEL_2\"]"
   ]
  },
  {
   "cell_type": "code",
   "execution_count": null,
   "metadata": {},
   "outputs": [],
   "source": [
    "### 시간의 변화에 따른 감성 분석 변화\n",
    "\n",
    "# 'date' 열을 datetime 형태로 변환\n",
    "df['date'] = pd.to_datetime(df['date'])\n",
    "\n",
    "# 월별로 감성 클래스의 빈도 계산\n",
    "df['month'] = df['date'].dt.month  \n",
    "grouped_data = df.groupby(['month', 'sentiment_class']).size().reset_index(name='counts')\n",
    "\n",
    "# Pivot Table 생성\n",
    "pivot_data = grouped_data.pivot(index='month', columns='sentiment_class', values='counts').fillna(0)\n",
    "\n",
    "# 시각화\n",
    "pivot_data.plot(kind='bar', stacked=True, figsize=(10, 5))\n",
    "plt.title('월별 감성 분석 결과')\n",
    "plt.xlabel('날짜')\n",
    "plt.ylabel('리뷰 수')\n",
    "plt.show()"
   ]
  },
  {
   "cell_type": "markdown",
   "metadata": {},
   "source": [
    "## 랭체인을 활용한 LLM 감성분석 (분류)"
   ]
  },
  {
   "cell_type": "code",
   "execution_count": null,
   "metadata": {},
   "outputs": [],
   "source": [
    "from langchain_core.prompts.few_shot import FewShotPromptTemplate\n",
    "from langchain_core.prompts.prompt import PromptTemplate\n",
    "\n",
    "# 리뷰 예시와 해당 리뷰의 감성(긍정, 부정, 중립)을 정의\n",
    "examples = [\n",
    "    {\n",
    "        \"review\": \"매우 유익했습니다!\",\n",
    "        \"sentiment\": \"긍정\",\n",
    "    },\n",
    "    {\n",
    "        \"review\": \"매우 실망스러웠어요.\",\n",
    "        \"sentiment\": \"부정\",\n",
    "    },\n",
    "    {\n",
    "        \"review\": \"만족스러웠습니다.\",\n",
    "        \"sentiment\": \"긍정\",\n",
    "    },\n",
    "    {\n",
    "        \"review\": \"사용이 간편해서 좋았습니다.\",\n",
    "        \"sentiment\": \"긍정\",\n",
    "    },\n",
    "    {\n",
    "        \"review\": \"내용이 조금 지루했지만, 정보는 유용했습니다.\",\n",
    "        \"sentiment\": \"중립\",\n",
    "    },\n",
    "    {\n",
    "        \"review\": \"예상보다 참석자가 많아서 질문을 충분히 하지 못했습니다.\",\n",
    "        \"sentiment\": \"부정\",\n",
    "    },\n",
    "]\n",
    "\n",
    "\n",
    "# Few-shot 학습을 위한 템플릿 정의\n",
    "example_prompt = PromptTemplate(\n",
    "    input_variables=[\"review\", \"sentiment\"], template=\"review: {review}\\n{sentiment}\"\n",
    ")\n",
    "\n",
    "print(example_prompt.format(**examples[0]))"
   ]
  },
  {
   "cell_type": "code",
   "execution_count": null,
   "metadata": {},
   "outputs": [],
   "source": [
    "prompt = FewShotPromptTemplate(\n",
    "    examples=examples,\n",
    "    example_prompt=example_prompt,\n",
    "    suffix=\"review: {input}\",\n",
    "    input_variables=[\"input\"],\n",
    ")\n",
    "\n",
    "# 새 리뷰에 대한 감성 분석 예제 생성\n",
    "new_review = \"이벤트 내용은 좋은데 기간이 너무 짧았어요.\"\n",
    "print(prompt.format(input=new_review))"
   ]
  },
  {
   "cell_type": "code",
   "execution_count": null,
   "metadata": {},
   "outputs": [],
   "source": [
    "# LLM\n",
    "from langchain_openai import ChatOpenAI\n",
    "llm = ChatOpenAI(temperature=0, model=\"gpt-3.5-turbo-0125\",\n",
    "                 api_key=OPENAI_API_KEY)\n",
    "\n",
    "chain = prompt | llm\n",
    "\n",
    "response = chain.invoke(new_review)\n",
    "\n",
    "response"
   ]
  },
  {
   "cell_type": "code",
   "execution_count": null,
   "metadata": {},
   "outputs": [],
   "source": [
    "sentiment = response.content\n",
    "sentiment"
   ]
  },
  {
   "cell_type": "code",
   "execution_count": null,
   "metadata": {},
   "outputs": [],
   "source": [
    "# 5개의 샘플 데이터\n",
    "test_df = df.head()\n",
    "test_df"
   ]
  },
  {
   "cell_type": "code",
   "execution_count": null,
   "metadata": {},
   "outputs": [],
   "source": [
    "# 모든 리뷰에 대해서 감성 분석을 적용해서 새로운 열에 추가하는 함수\n",
    "def analyze_sentiment_llm(review):\n",
    "    response = chain.invoke(review)\n",
    "    return response.content\n",
    "\n",
    "test_df['sentiment_llm'] = test_df['comment'].apply(analyze_sentiment_llm)\n",
    "test_df"
   ]
  },
  {
   "cell_type": "markdown",
   "metadata": {},
   "source": [
    "## 랭체인을 활용한 LLM 감성분석 (평점 예측)"
   ]
  },
  {
   "cell_type": "code",
   "execution_count": null,
   "metadata": {},
   "outputs": [],
   "source": [
    "from langchain_core.prompts.prompt import PromptTemplate\n",
    "from langchain_openai import ChatOpenAI\n",
    "from langchain_core.output_parsers import StrOutputParser\n",
    "\n",
    "\n",
    "llm = ChatOpenAI(temperature=0, model=\"gpt-3.5-turbo-0125\",\n",
    "                 api_key=OPENAI_API_KEY)\n",
    "\n",
    "\n",
    "template = \"\"\"\n",
    "Classify the given sentiment of the given text into positive or negative classes and provide a relevant score.\n",
    "The sentiment score should be between 0.0 and 1.0, where 0.0 indicates a negative sentiment and 1.0 indicates a positive sentiment.\n",
    "\n",
    "Input: {input}\n",
    "\n",
    "Output: sentiment_label (Score: sentiment_score)\n",
    "\"\"\"\n",
    "\n",
    "prompt = PromptTemplate.from_template(template)\n",
    "output_parser = StrOutputParser()\n",
    "\n",
    "# LCEL chaining\n",
    "chain = prompt | llm | output_parser\n",
    "\n",
    "# chain 호출\n",
    "response = chain.invoke({\"input\": \"최고예요\"})\n",
    "\n",
    "# 결과 확인\n",
    "response"
   ]
  },
  {
   "cell_type": "code",
   "execution_count": null,
   "metadata": {},
   "outputs": [],
   "source": [
    "re.search(r\"\\d+\\.\\d+\", response).group()"
   ]
  },
  {
   "cell_type": "code",
   "execution_count": null,
   "metadata": {},
   "outputs": [],
   "source": [
    "# 감정 분석 결과를 반환하는 함수 정의\n",
    "def analyze_sentiment_score_llm(review):\n",
    "    \"\"\"\n",
    "    리뷰에 대한 감정 분석 결과를 0~1 사이의 값으로 변환하는 함수\n",
    "    Args:\n",
    "        review: 리뷰 텍스트\n",
    "    Returns:\n",
    "        float: 감정 분석 결과\n",
    "    \"\"\"\n",
    "    template = \"\"\"\n",
    "    Classify the given sentiment of the given text into positive or negative classes and provide a relevant score.\n",
    "    The sentiment score should be between 0.0 and 1.0, where 0.0 indicates a negative sentiment and 1.0 indicates a positive sentiment.\n",
    "\n",
    "    Input: {input}\n",
    "\n",
    "    Output: sentiment_label (Score: sentiment_score)\n",
    "    \"\"\"\n",
    "\n",
    "    prompt = PromptTemplate.from_template(template)\n",
    "    output_parser = StrOutputParser()\n",
    "\n",
    "    llm = ChatOpenAI(temperature=0, model=\"gpt-3.5-turbo-0125\",\n",
    "                     api_key=OPENAI_API_KEY)\n",
    "\n",
    "    chain = prompt | llm | output_parser\n",
    "\n",
    "    response = chain.invoke({\"input\": review})\n",
    "    \n",
    "    sentiment_score = re.search(r\"\\d+\\.\\d+\", response).group()\n",
    "    \n",
    "    return sentiment_score\n",
    "\n",
    "\n",
    "# 함수 실행\n",
    "sentiment_score = analyze_sentiment_score_llm(\"최고예요\")\n",
    "sentiment_score"
   ]
  },
  {
   "cell_type": "code",
   "execution_count": null,
   "metadata": {},
   "outputs": [],
   "source": [
    "# 함수 실행\n",
    "sentiment_score = analyze_sentiment_score_llm(\"별로예요\")\n",
    "sentiment_score"
   ]
  },
  {
   "cell_type": "code",
   "execution_count": null,
   "metadata": {},
   "outputs": [],
   "source": [
    "# 함수 실행\n",
    "sentiment_score = analyze_sentiment_score_llm(\"보통 수준이에요\")\n",
    "sentiment_score"
   ]
  },
  {
   "cell_type": "code",
   "execution_count": null,
   "metadata": {},
   "outputs": [],
   "source": [
    "test_df['sentiment_llm_socre'] = test_df['comment'].apply(analyze_sentiment_score_llm)\n",
    "test_df"
   ]
  },
  {
   "cell_type": "code",
   "execution_count": null,
   "metadata": {},
   "outputs": [],
   "source": []
  }
 ],
 "metadata": {
  "kernelspec": {
   "display_name": "study",
   "language": "python",
   "name": "study"
  },
  "language_info": {
   "codemirror_mode": {
    "name": "ipython",
    "version": 3
   },
   "file_extension": ".py",
   "mimetype": "text/x-python",
   "name": "python",
   "nbconvert_exporter": "python",
   "pygments_lexer": "ipython3",
   "version": "3.11.0"
  }
 },
 "nbformat": 4,
 "nbformat_minor": 4
}
