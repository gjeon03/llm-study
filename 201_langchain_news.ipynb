{
 "cells": [
  {
   "cell_type": "markdown",
   "metadata": {},
   "source": [
    "# 뉴스 본문 데이터 수집"
   ]
  },
  {
   "cell_type": "code",
   "execution_count": null,
   "metadata": {},
   "outputs": [],
   "source": [
    "import os\n",
    "from dotenv import load_dotenv\n",
    "\n",
    "load_dotenv()\n",
    "\n",
    "OPENAI_API_KEY = os.environ[\"OPENAI_API_KEY\"]"
   ]
  },
  {
   "cell_type": "code",
   "execution_count": null,
   "metadata": {},
   "outputs": [],
   "source": [
    "# 뉴스 링크 데이터 가져오기\n",
    "import pandas as pd\n",
    "df_news = pd.read_csv('daum_economy_news.csv')\n",
    "df_news.head()"
   ]
  },
  {
   "cell_type": "code",
   "execution_count": null,
   "metadata": {},
   "outputs": [],
   "source": [
    "len(df_news)"
   ]
  },
  {
   "cell_type": "code",
   "execution_count": null,
   "metadata": {},
   "outputs": [],
   "source": [
    "# 첫 번째 뉴스 링크 가져오기\n",
    "df_news['link'][0]"
   ]
  },
  {
   "cell_type": "code",
   "execution_count": null,
   "metadata": {},
   "outputs": [],
   "source": [
    "# 랭체인 WebBaseLoader로 뉴스 본문 가져오기\n",
    "\n",
    "import bs4\n",
    "from langchain_community.document_loaders import WebBaseLoader\n",
    "\n",
    "url = df_news['link'][0]\n",
    "\n",
    "loader = WebBaseLoader(\n",
    "    web_paths=[url, ],\n",
    "    bs_kwargs=dict(\n",
    "        parse_only=bs4.SoupStrainer(\n",
    "            class_=[\"article_view\"]\n",
    "        )\n",
    "    ),\n",
    ")\n",
    "docs = loader.load()\n",
    "len(docs)"
   ]
  },
  {
   "cell_type": "code",
   "execution_count": null,
   "metadata": {},
   "outputs": [],
   "source": [
    "# Document 객체 확인\n",
    "docs[0]"
   ]
  },
  {
   "cell_type": "code",
   "execution_count": null,
   "metadata": {},
   "outputs": [],
   "source": [
    "# Document 객체의 page_content 속성 확인\n",
    "docs[0].page_content.strip()"
   ]
  },
  {
   "cell_type": "code",
   "execution_count": null,
   "metadata": {},
   "outputs": [],
   "source": [
    "# 각 링크를 순회하며 뉴스 본문 가져오기\n",
    "import time\n",
    "\n",
    "def get_news_content(url):\n",
    "    loader = WebBaseLoader(\n",
    "        web_paths=[url],\n",
    "        bs_kwargs=dict(\n",
    "            parse_only=bs4.SoupStrainer(\n",
    "                class_=[\"article_view\"]\n",
    "            )\n",
    "        ),\n",
    "    )\n",
    "    docs = loader.load()\n",
    "    time.sleep(1)\n",
    "    return docs[0].page_content.strip()"
   ]
  },
  {
   "cell_type": "code",
   "execution_count": null,
   "metadata": {},
   "outputs": [],
   "source": [
    "df_news['content'] = df_news['link'].apply(get_news_content)\n",
    "df_news.head()"
   ]
  },
  {
   "cell_type": "code",
   "execution_count": null,
   "metadata": {},
   "outputs": [],
   "source": [
    "# 뉴스 본문 데이터 저장\n",
    "df_news.to_csv('daum_economy_news_content.csv', index=False)"
   ]
  },
  {
   "cell_type": "code",
   "execution_count": null,
   "metadata": {},
   "outputs": [],
   "source": [
    "# df_news = pd.read_csv('daum_economy_news_content.csv')"
   ]
  },
  {
   "cell_type": "markdown",
   "metadata": {},
   "source": [
    "# 뉴스 본문에서 언론사 이름, 기자 이름, 이메일 주소 등을 추출 "
   ]
  },
  {
   "cell_type": "code",
   "execution_count": null,
   "metadata": {},
   "outputs": [],
   "source": [
    "# 뉴스 본문 데이터 확인하기\n",
    "text = df_news['content'].iloc[0]\n",
    "text"
   ]
  },
  {
   "cell_type": "code",
   "execution_count": null,
   "metadata": {},
   "outputs": [],
   "source": [
    "# 정규표현식 사용 - 기자 이름 추출\n",
    "import re\n",
    "name_pattern = r'([가-힣]{2,4} 기자)'\n",
    "name_matches = re.findall(name_pattern, text)\n",
    "name = name_matches[0] if name_matches else None\n",
    "name"
   ]
  },
  {
   "cell_type": "code",
   "execution_count": null,
   "metadata": {},
   "outputs": [],
   "source": [
    "# 정규표현식 사용 - 이메일 주소 추출\n",
    "email_pattern = r'[a-zA-Z0-9._%+-]+@[a-zA-Z0-9.-]+\\.[a-zA-Z]{2,}'\n",
    "email_matches = re.findall(email_pattern, text)\n",
    "email = email_matches[0] if email_matches else None\n",
    "email"
   ]
  },
  {
   "cell_type": "code",
   "execution_count": null,
   "metadata": {},
   "outputs": [],
   "source": [
    "# LLM 활용 - 기자 이름, 이메일 주소 추출\n",
    "from langchain.prompts import PromptTemplate\n",
    "from langchain_openai import ChatOpenAI\n",
    "from langchain_core.output_parsers import StrOutputParser\n",
    "\n",
    "# prompt\n",
    "prompt_template = \"\"\"다음 뉴스 본문에서 기자 이름, 이메일 주소를 추출합니다.\n",
    "\n",
    "<뉴스 본문>\n",
    "{text}\n",
    "</뉴스 본문>\n",
    "\n",
    "기자 이름:\n",
    "이메일 주소:\n",
    "\"\"\"\n",
    "\n",
    "prompt = PromptTemplate.from_template(prompt_template)\n",
    "\n",
    "# LLM\n",
    "llm = ChatOpenAI(temperature=0, model_name=\"gpt-3.5-turbo-0125\",\n",
    "                 api_key=OPENAI_API_KEY)\n",
    "\n",
    "# output parser\n",
    "output_parser = StrOutputParser()\n",
    "\n",
    "# Chain\n",
    "llm_chain = prompt | llm | output_parser\n",
    "\n",
    "response = llm_chain.invoke({\"text\": text})\n",
    "\n",
    "response"
   ]
  },
  {
   "cell_type": "markdown",
   "metadata": {},
   "source": [
    "# 뉴스 본문 요약"
   ]
  },
  {
   "cell_type": "code",
   "execution_count": null,
   "metadata": {},
   "outputs": [],
   "source": [
    "# prompt\n",
    "prompt_template = \"\"\"다음 뉴스 본문을 3가지 요점으로 요약합니다. 각 요점은 1줄로 작성합니다.\n",
    "\n",
    "<뉴스 본문>\n",
    "{text}\n",
    "</뉴스 본문>\n",
    "\n",
    "요점 1:\n",
    "요점 2:\n",
    "요점 3:\n",
    "\"\"\"\n",
    "\n",
    "prompt = PromptTemplate.from_template(prompt_template)\n",
    "\n",
    "# LLM\n",
    "llm = ChatOpenAI(temperature=0, model_name=\"gpt-3.5-turbo-0125\",\n",
    "                 api_key=OPENAI_API_KEY)\n",
    "\n",
    "# output parser\n",
    "output_parser = StrOutputParser()\n",
    "\n",
    "# Chain\n",
    "llm_chain = prompt | llm | output_parser\n",
    "\n",
    "response = llm_chain.invoke({\"text\": text})\n",
    "\n",
    "response"
   ]
  },
  {
   "cell_type": "markdown",
   "metadata": {},
   "source": [
    "# 뉴스 키워드 추출"
   ]
  },
  {
   "cell_type": "code",
   "execution_count": null,
   "metadata": {},
   "outputs": [],
   "source": [
    "# prompt\n",
    "prompt_template = \"\"\"다음 뉴스 본문에서 3가지 키워드를 추출합니다. 각 키워드는 쉼표(,)로 구분합니다.\n",
    "\n",
    "<뉴스 본문>\n",
    "{text}\n",
    "</뉴스 본문>\n",
    "\n",
    "키워드: \n",
    "\"\"\"\n",
    "\n",
    "prompt = PromptTemplate.from_template(prompt_template)\n",
    "\n",
    "# LLM\n",
    "llm = ChatOpenAI(temperature=0, model_name=\"gpt-3.5-turbo-0125\", api_key=OPENAI_API_KEY)\n",
    "\n",
    "# output parser\n",
    "output_parser = StrOutputParser()\n",
    "\n",
    "# Chain\n",
    "llm_chain = prompt | llm | output_parser\n",
    "\n",
    "response = llm_chain.invoke({\"text\": text})\n",
    "\n",
    "response"
   ]
  },
  {
   "cell_type": "markdown",
   "metadata": {},
   "source": [
    "## create_extraction_chain 활용하여 요약, 추출"
   ]
  },
  {
   "cell_type": "code",
   "execution_count": null,
   "metadata": {},
   "outputs": [],
   "source": [
    "text"
   ]
  },
  {
   "cell_type": "code",
   "execution_count": null,
   "metadata": {},
   "outputs": [],
   "source": [
    "from langchain.chains import create_extraction_chain\n",
    "from langchain_openai import ChatOpenAI\n",
    "\n",
    "# 스키마 정의\n",
    "schema = {\n",
    "    \"properties\": {\n",
    "        \"뉴스_제목\": {\"type\": \"string\"},\n",
    "        \"뉴스_카테고리\": {\"type\": \"string\"},\n",
    "        \"뉴스_요약\": {\"type\": \"string\"},\n",
    "        \"뉴스_키워드\": {\"type\": \"string\"},\n",
    "        \"기자_이름\": {\"type\": \"string\"},\n",
    "        \"기자_이메일\": {\"type\": \"string\"},\n",
    "    },\n",
    "    \"required\": [\"뉴스_제목\", \"뉴스_카테고리\", \"뉴스_요약\", \"뉴스_키워드\", \"기자_이름\", \"기자_이메일\"],\n",
    "}\n",
    "\n",
    "# LLM 생성\n",
    "llm = ChatOpenAI(temperature=0, model_name=\"gpt-3.5-turbo-0125\", api_key=OPENAI_API_KEY)\n",
    "\n",
    "# Chain 생성\n",
    "chain = create_extraction_chain(schema=schema, llm=llm)\n",
    "\n",
    "# Chain 실행\n",
    "response = chain.invoke(text)\n",
    "\n",
    "# 결과 확인\n",
    "response"
   ]
  },
  {
   "cell_type": "code",
   "execution_count": null,
   "metadata": {},
   "outputs": [],
   "source": [
    "# prompt 추가\n",
    "\n",
    "from langchain_core.prompts import ChatPromptTemplate\n",
    "\n",
    "prompt_template = \"\"\"Extract and save the relevant entities mentioned \\\n",
    "in the following passage together with their properties.\n",
    "\n",
    "Only extract the properties mentioned in the 'information_extraction' function.\n",
    "\n",
    "If a property is not present and is not required in the function parameters, do not include it in the output.\n",
    "\n",
    "For keywords, extract at most 3 keywords.\n",
    "For categories, use the following categories: '정치', '경제', '사회', '문화', '세계', '과학', '기술', '스포츠', '엔터', '건강'.\n",
    "\n",
    "Passage:\n",
    "{input}\n",
    "\"\"\" \n",
    "\n",
    "prompt = ChatPromptTemplate.from_template(prompt_template)\n",
    "\n",
    "chain = create_extraction_chain(schema=schema, llm=llm, prompt=prompt)\n",
    "\n",
    "# Chain 실행\n",
    "response = chain.invoke(text)\n",
    "\n",
    "# 결과 확인\n",
    "response"
   ]
  },
  {
   "cell_type": "code",
   "execution_count": null,
   "metadata": {},
   "outputs": [],
   "source": []
  }
 ],
 "metadata": {
  "kernelspec": {
   "display_name": "study",
   "language": "python",
   "name": "study"
  },
  "language_info": {
   "codemirror_mode": {
    "name": "ipython",
    "version": 3
   },
   "file_extension": ".py",
   "mimetype": "text/x-python",
   "name": "python",
   "nbconvert_exporter": "python",
   "pygments_lexer": "ipython3",
   "version": "3.11.0"
  }
 },
 "nbformat": 4,
 "nbformat_minor": 4
}
