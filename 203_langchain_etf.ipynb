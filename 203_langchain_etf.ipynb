{
 "cells": [
  {
   "cell_type": "markdown",
   "metadata": {},
   "source": [
    "# Part 1. ETF 목록 수집하기\n",
    "https://github.com/JerBouma/FinanceDatabase"
   ]
  },
  {
   "cell_type": "code",
   "execution_count": null,
   "metadata": {},
   "outputs": [],
   "source": [
    "import pandas as pd\n",
    "import numpy as np"
   ]
  },
  {
   "cell_type": "code",
   "execution_count": null,
   "metadata": {},
   "outputs": [],
   "source": [
    "import financedatabase as fd"
   ]
  },
  {
   "cell_type": "code",
   "execution_count": null,
   "metadata": {},
   "outputs": [],
   "source": [
    "etfs = fd.ETFs()"
   ]
  },
  {
   "cell_type": "code",
   "execution_count": null,
   "metadata": {},
   "outputs": [],
   "source": [
    "all_etfs = etfs.search()\n",
    "print(len(all_etfs))\n",
    "all_etfs.head()"
   ]
  },
  {
   "cell_type": "code",
   "execution_count": null,
   "metadata": {},
   "outputs": [],
   "source": [
    "# summary가 결측인 데이터를 삭제\n",
    "all_etfs = all_etfs.dropna()\n",
    "print(len(all_etfs))\n",
    "all_etfs.head()"
   ]
  },
  {
   "cell_type": "markdown",
   "metadata": {},
   "source": [
    "# Part 2. ETF holdings 보유내역 수집"
   ]
  },
  {
   "cell_type": "code",
   "execution_count": null,
   "metadata": {},
   "outputs": [],
   "source": [
    "import requests\n",
    "from bs4 import BeautifulSoup\n",
    "import pandas as pd\n",
    "from io import StringIO\n",
    "\n",
    "symbol = \"QQQ\"\n",
    "url = f\"https://www.schwab.wallst.com/schwab/Prospect/research/etfs/schwabETF/index.asp?type=holdings&symbol={symbol}\"\n",
    "\n",
    "response = requests.get(url)\n",
    "df_list = pd.read_html(StringIO(response.text))\n",
    "\n",
    "len(df_list)"
   ]
  },
  {
   "cell_type": "code",
   "execution_count": null,
   "metadata": {},
   "outputs": [],
   "source": [
    "df_list[0]"
   ]
  },
  {
   "cell_type": "code",
   "execution_count": null,
   "metadata": {},
   "outputs": [],
   "source": [
    "# LastPrice, Date 추출\n",
    "last_price = df_list[0][\"Last Price\"].iloc[0]\n",
    "date = df_list[0][\"Last Price\"].iloc[1]\n",
    "\n",
    "last_price, date"
   ]
  },
  {
   "cell_type": "code",
   "execution_count": null,
   "metadata": {},
   "outputs": [],
   "source": [
    "last_price = float(last_price.replace(\"$\", \"\"))\n",
    "date = date.replace(\"As of close\\xa0\", \"\")\n",
    "\n",
    "last_price, date"
   ]
  },
  {
   "cell_type": "code",
   "execution_count": null,
   "metadata": {},
   "outputs": [],
   "source": [
    "df_list[1]"
   ]
  },
  {
   "cell_type": "code",
   "execution_count": null,
   "metadata": {},
   "outputs": [],
   "source": [
    "# 데이터를 추출하는 함수\n",
    "def get_schwab_etf_holdings(symbol):\n",
    "    url = f\"https://www.schwab.wallst.com/schwab/Prospect/research/etfs/schwabETF/index.asp?type=holdings&symbol={symbol}\"\n",
    "    response = requests.get(url)\n",
    "    df_list = pd.read_html(StringIO(response.text))\n",
    "    df_holdings = df_list[1]\n",
    "    last_price = df_list[0][\"Last Price\"].iloc[0]\n",
    "    date = df_list[0][\"Last Price\"].iloc[1]\n",
    "    last_price = float(last_price.replace(\"$\", \"\"))\n",
    "    date = date.replace(\"As of close\\xa0\", \"\")\n",
    "    return df_holdings, last_price, date\n",
    "\n",
    "\n",
    "# 함수 실행\n",
    "symbol = \"QQQ\"\n",
    "df_holdings, last_price, date = get_schwab_etf_holdings(symbol)\n",
    "print(last_price, date)\n",
    "df_holdings.head()"
   ]
  },
  {
   "cell_type": "markdown",
   "metadata": {},
   "source": [
    "# Part 3. LangChain으로 추천 시스템 만들기"
   ]
  },
  {
   "cell_type": "code",
   "execution_count": null,
   "metadata": {},
   "outputs": [],
   "source": [
    "all_etfs.head(2)"
   ]
  },
  {
   "cell_type": "code",
   "execution_count": null,
   "metadata": {},
   "outputs": [],
   "source": [
    "all_etfs = all_etfs.reset_index()\n",
    "all_etfs.head()"
   ]
  },
  {
   "cell_type": "code",
   "execution_count": null,
   "metadata": {},
   "outputs": [],
   "source": [
    "from langchain_community.document_loaders import DataFrameLoader\n",
    "\n",
    "loader = DataFrameLoader(all_etfs, page_content_column=\"summary\")\n",
    "\n",
    "docs = loader.load()\n",
    "len(docs)"
   ]
  },
  {
   "cell_type": "code",
   "execution_count": null,
   "metadata": {},
   "outputs": [],
   "source": [
    "docs[0].page_content"
   ]
  },
  {
   "cell_type": "code",
   "execution_count": null,
   "metadata": {},
   "outputs": [],
   "source": [
    "docs[0].metadata"
   ]
  },
  {
   "cell_type": "code",
   "execution_count": null,
   "metadata": {},
   "outputs": [],
   "source": [
    "import os\n",
    "from dotenv import load_dotenv\n",
    "\n",
    "load_dotenv()\n",
    "\n",
    "OPENAI_API_KEY = os.environ[\"OPENAI_API_KEY\"]"
   ]
  },
  {
   "cell_type": "code",
   "execution_count": null,
   "metadata": {},
   "outputs": [],
   "source": [
    "# 벡터스토어에 저장 - 테스트를 위해서 10개만 저장\n",
    "\n",
    "from langchain_community.vectorstores import Chroma\n",
    "from langchain_openai import OpenAIEmbeddings\n",
    "\n",
    "vectorstore = Chroma.from_documents(docs[:10], OpenAIEmbeddings(openai_api_key=OPENAI_API_KEY))"
   ]
  },
  {
   "cell_type": "code",
   "execution_count": null,
   "metadata": {},
   "outputs": [],
   "source": [
    "# 벡터스토어에 저장된 문서를 검색\n",
    "from langchain.chains.query_constructor.base import AttributeInfo, StructuredQueryOutputParser, get_query_constructor_prompt\n",
    "from langchain.retrievers.self_query.base import SelfQueryRetriever\n",
    "from langchain_openai import ChatOpenAI\n",
    "\n",
    "# 문서 객체의 메타데이터에 대한 설명\n",
    "metadata_field_info = [\n",
    "    AttributeInfo(\n",
    "        name=\"symbol\",\n",
    "        description=\"The stock symbol for the ETF, uniquely identifying the fund on the exchange.\",\n",
    "        type=\"string\",\n",
    "    ),\n",
    "    AttributeInfo(\n",
    "        name=\"name\",\n",
    "        description=\"The official name of the ETF, which describes the ETF's investment focus.\",\n",
    "        type=\"string\",\n",
    "    ),\n",
    "    AttributeInfo(\n",
    "        name=\"currency\",\n",
    "        description=\"The currency in which the ETF is denominated.\",\n",
    "        type=\"string\",\n",
    "    ),\n",
    "    AttributeInfo(\n",
    "        name=\"category_group\",\n",
    "        description=\"The general category or type of equities the ETF invests in, such as 'Equities'.\",\n",
    "        type=\"string\",\n",
    "    ),\n",
    "    AttributeInfo(\n",
    "        name=\"category\",\n",
    "        description=\"The specific investment category of the ETF, for example, 'Emerging Markets'.\",\n",
    "        type=\"string\",\n",
    "    ),\n",
    "    AttributeInfo(\n",
    "        name=\"family\",\n",
    "        description=\"The fund family or asset management company that manages the ETF, e.g., 'BlackRock Asset Management'.\",\n",
    "        type=\"string\",\n",
    "    ),\n",
    "    AttributeInfo(\n",
    "        name=\"exchange\",\n",
    "        description=\"The stock exchange where the ETF is listed, such as 'NMS' (NASDAQ Market System).\",\n",
    "        type=\"string\",\n",
    "    ),\n",
    "    AttributeInfo(\n",
    "        name=\"market\",\n",
    "        description=\"The regional market where the ETF is primarily traded, such as 'us_market'.\",\n",
    "        type=\"string\",\n",
    "    ),\n",
    "]\n",
    "\n",
    "# 문서 객체의 내용에 대한 설명\n",
    "document_content_description = \"Brief summary of a financial ETF, including its investment focus and strategy.\"\n",
    "\n",
    "# LLM 정의\n",
    "llm = ChatOpenAI(model=\"gpt-3.5-turbo-0125\", temperature=0, api_key=OPENAI_API_KEY)\n",
    "\n",
    "\n",
    "# 검색 쿼리 생성기\n",
    "prompt = get_query_constructor_prompt(\n",
    "    document_content_description,\n",
    "    metadata_field_info,\n",
    ")\n",
    "\n",
    "output_parser = StructuredQueryOutputParser.from_components()\n",
    "query_constructor = prompt | llm | output_parser\n",
    "\n",
    "query_constructor.invoke({\"query\": \"Find a fund that invests in equities of clean energy production companies.\"})"
   ]
  },
  {
   "cell_type": "code",
   "execution_count": null,
   "metadata": {},
   "outputs": [],
   "source": [
    "from langchain.retrievers.self_query.chroma import ChromaTranslator\n",
    "\n",
    "# SelfQueryRetriever 생성\n",
    "retriever = SelfQueryRetriever(\n",
    "    query_constructor=query_constructor,\n",
    "    vectorstore=vectorstore, \n",
    "    structured_query_translator=ChromaTranslator(), \n",
    ")\n",
    "\n",
    "# 문서 검색\n",
    "results = retriever.invoke(\"Find a fund that invests in equities of clean energy production companies.\")\n",
    "results"
   ]
  },
  {
   "cell_type": "code",
   "execution_count": null,
   "metadata": {},
   "outputs": [],
   "source": [
    "for r in results:\n",
    "    print(r.metadata)"
   ]
  },
  {
   "cell_type": "code",
   "execution_count": null,
   "metadata": {},
   "outputs": [],
   "source": [
    "# ETF의 종목 중에서 첫번째 검색 결과의 symbol을 추출\n",
    "symbol = results[0].metadata[\"symbol\"]\n",
    "symbol"
   ]
  },
  {
   "cell_type": "code",
   "execution_count": null,
   "metadata": {},
   "outputs": [],
   "source": [
    "# ETF의 종목 중에서 첫번째 검색 결과의 symbol을 이용하여 Schwab의 ETF 보유 종목을 검색\n",
    "df_holdings, last_price, date = get_schwab_etf_holdings(symbol)\n",
    "print(last_price, date)\n",
    "df_holdings.head()"
   ]
  },
  {
   "cell_type": "code",
   "execution_count": null,
   "metadata": {},
   "outputs": [],
   "source": [
    "# 사용자의 질문을 입력받아서 ETF를 검색하고 Schwab의 ETF 보유 종목을 출력하는 함수를 정의\n",
    "def get_etf_holdings(query, max_retry=3):\n",
    "    i = 0\n",
    "    while i < max_retry:\n",
    "        try:\n",
    "            results = retriever.invoke(query)\n",
    "            symbol = results[0].metadata[\"symbol\"]\n",
    "            df_holdings, last_price, date = get_schwab_etf_holdings(symbol)\n",
    "            return df_holdings, last_price, date\n",
    "        except:\n",
    "            i += 1\n",
    "            continue\n",
    "    return pd.DataFrame(), np.nan, np.nan"
   ]
  },
  {
   "cell_type": "code",
   "execution_count": null,
   "metadata": {},
   "outputs": [],
   "source": [
    "# 함수 실행\n",
    "query = \"Find a fund that invests in equities of clean energy production companies.\"\n",
    "df_holdings, last_price, date = get_etf_holdings(query)\n",
    "print(last_price, date)\n",
    "df_holdings.head()"
   ]
  },
  {
   "cell_type": "code",
   "execution_count": null,
   "metadata": {},
   "outputs": [],
   "source": []
  }
 ],
 "metadata": {
  "kernelspec": {
   "display_name": "study",
   "language": "python",
   "name": "study"
  },
  "language_info": {
   "codemirror_mode": {
    "name": "ipython",
    "version": 3
   },
   "file_extension": ".py",
   "mimetype": "text/x-python",
   "name": "python",
   "nbconvert_exporter": "python",
   "pygments_lexer": "ipython3",
   "version": "3.11.0"
  }
 },
 "nbformat": 4,
 "nbformat_minor": 4
}
