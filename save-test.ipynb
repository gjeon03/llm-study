{
 "cells": [
  {
   "cell_type": "code",
   "execution_count": 1,
   "metadata": {},
   "outputs": [],
   "source": [
    "def get_news(driver, category):\n",
    "\n",
    "    data = {'title':[], 'agency':[], 'category':[], 'link':[]}\n",
    "\n",
    "    current_page = 1\n",
    "    \n",
    "    while current_page < 6:\n",
    "        try:\n",
    "            soup = BeautifulSoup(driver.page_source, 'html.parser')\n",
    "            news = soup.select('#timeline > ul > li')\n",
    "            \n",
    "            for item in news:\n",
    "                title = item.select_one('strong > a').text\n",
    "                agency = item.select_one('span.info_cp').text\n",
    "                link = item.select_one('strong > a')['href']\n",
    "                \n",
    "                data['title'].append(title)\n",
    "                data['agency'].append(agency)\n",
    "                data['category'].append(category)\n",
    "                data['link'].append(link)\n",
    "            \n",
    "            page_numbers = driver.find_elements(By.CSS_SELECTOR, '#timeline > div > div > a')\n",
    "            driver.implicitly_wait(5)\n",
    "            \n",
    "            for p in page_numbers:\n",
    "                if (p.text != '다음') and (int(p.text) == current_page + 1):\n",
    "                    p.click()\n",
    "                    \n",
    "                    WebDriverWait(driver, 10).until(EC.presence_of_element_located((By.CSS_SELECTOR, '#timeline > ul > li')))\n",
    "\n",
    "                    current_page = current_page + 1\n",
    "                    print(p.text, current_page)\n",
    "                    break        \n",
    "\n",
    "        except:\n",
    "            pass\n",
    "    \n",
    "    df = pd.DataFrame(data)\n",
    "    \n",
    "    driver.close()\n",
    "\n",
    "    return df"
   ]
  },
  {
   "cell_type": "code",
   "execution_count": 4,
   "metadata": {},
   "outputs": [
    {
     "name": "stdout",
     "output_type": "stream",
     "text": [
      "2 2\n",
      "3 3\n",
      "4 4\n",
      "5 5\n",
      "6 6\n",
      "140\n"
     ]
    },
    {
     "data": {
      "text/html": [
       "<div>\n",
       "<style scoped>\n",
       "    .dataframe tbody tr th:only-of-type {\n",
       "        vertical-align: middle;\n",
       "    }\n",
       "\n",
       "    .dataframe tbody tr th {\n",
       "        vertical-align: top;\n",
       "    }\n",
       "\n",
       "    .dataframe thead th {\n",
       "        text-align: right;\n",
       "    }\n",
       "</style>\n",
       "<table border=\"1\" class=\"dataframe\">\n",
       "  <thead>\n",
       "    <tr style=\"text-align: right;\">\n",
       "      <th></th>\n",
       "      <th>title</th>\n",
       "      <th>agency</th>\n",
       "      <th>category</th>\n",
       "      <th>link</th>\n",
       "    </tr>\n",
       "  </thead>\n",
       "  <tbody>\n",
       "    <tr>\n",
       "      <th>0</th>\n",
       "      <td>5월 출생아수 2.7%↑ 두 달 연속 증가…혼인 건수는 21%↑</td>\n",
       "      <td>KBS</td>\n",
       "      <td>경제</td>\n",
       "      <td>https://v.daum.net/v/20240724124007227</td>\n",
       "    </tr>\n",
       "    <tr>\n",
       "      <th>1</th>\n",
       "      <td>결혼 증가에…5월 태어난 아기, 8년반 만에 두달 연속 늘었다</td>\n",
       "      <td>중앙일보</td>\n",
       "      <td>경제</td>\n",
       "      <td>https://v.daum.net/v/20240724123551161</td>\n",
       "    </tr>\n",
       "    <tr>\n",
       "      <th>2</th>\n",
       "      <td>길어지는 캐즘에…K-배터리, 줄줄이 투자 축소</td>\n",
       "      <td>연합뉴스TV</td>\n",
       "      <td>경제</td>\n",
       "      <td>https://v.daum.net/v/20240724123216130</td>\n",
       "    </tr>\n",
       "    <tr>\n",
       "      <th>3</th>\n",
       "      <td>'K-뷰티' 열풍에 中企 수출 3분기 연속 상승</td>\n",
       "      <td>전자신문</td>\n",
       "      <td>경제</td>\n",
       "      <td>https://v.daum.net/v/20240724122902096</td>\n",
       "    </tr>\n",
       "    <tr>\n",
       "      <th>4</th>\n",
       "      <td>지원책 효과 보나?…결혼·출산 늘었다</td>\n",
       "      <td>한국경제TV</td>\n",
       "      <td>경제</td>\n",
       "      <td>https://v.daum.net/v/20240724122730074</td>\n",
       "    </tr>\n",
       "  </tbody>\n",
       "</table>\n",
       "</div>"
      ],
      "text/plain": [
       "                                 title  agency category  \\\n",
       "0  5월 출생아수 2.7%↑ 두 달 연속 증가…혼인 건수는 21%↑     KBS       경제   \n",
       "1   결혼 증가에…5월 태어난 아기, 8년반 만에 두달 연속 늘었다    중앙일보       경제   \n",
       "2            길어지는 캐즘에…K-배터리, 줄줄이 투자 축소  연합뉴스TV       경제   \n",
       "3           'K-뷰티' 열풍에 中企 수출 3분기 연속 상승    전자신문       경제   \n",
       "4                 지원책 효과 보나?…결혼·출산 늘었다  한국경제TV       경제   \n",
       "\n",
       "                                     link  \n",
       "0  https://v.daum.net/v/20240724124007227  \n",
       "1  https://v.daum.net/v/20240724123551161  \n",
       "2  https://v.daum.net/v/20240724123216130  \n",
       "3  https://v.daum.net/v/20240724122902096  \n",
       "4  https://v.daum.net/v/20240724122730074  "
      ]
     },
     "execution_count": 4,
     "metadata": {},
     "output_type": "execute_result"
    }
   ],
   "source": [
    "# Seleium 드라이버 생성\n",
    "from selenium import webdriver\n",
    "from selenium.webdriver.chrome.service import Service\n",
    "from webdriver_manager.chrome import ChromeDriverManager\n",
    "from selenium.webdriver.common.by import By\n",
    "from bs4 import BeautifulSoup\n",
    "from selenium.webdriver.support.ui import WebDriverWait\n",
    "from selenium.webdriver.support import expected_conditions as EC\n",
    "import pandas as pd\n",
    "\n",
    "# Chrome 옵션 설정\n",
    "options = webdriver.ChromeOptions()\n",
    "# options.add_argument('--headless')  # 화면없이 실행\n",
    "\n",
    "# 드라이버 서비스 생성\n",
    "service = Service(ChromeDriverManager().install())\n",
    "\n",
    "# 웹 드라이버 초기화\n",
    "driver = webdriver.Chrome(service=service, options=options)\n",
    "\n",
    "url = \"https://news.daum.net/\"\n",
    "\n",
    "driver.get(url)\n",
    "\n",
    "category_tabs = driver.find_elements(By.CSS_SELECTOR, '#gnbContent > div > ul > li')\n",
    "\n",
    "category_dict = {item.text:item for item in category_tabs}\n",
    "category_dict['경제'].click()\n",
    "\n",
    "WebDriverWait(driver, 10).until(\n",
    "    EC.presence_of_element_located((By.CSS_SELECTOR, '#timeline > ul > li'))\n",
    ")\n",
    "\n",
    "# 데이터 수집\n",
    "df_economy = get_news(driver, '경제')\n",
    "print(len(df_economy))\n",
    "\n",
    "df_economy.head()"
   ]
  },
  {
   "cell_type": "code",
   "execution_count": 5,
   "metadata": {},
   "outputs": [
    {
     "data": {
      "text/plain": [
       "60"
      ]
     },
     "execution_count": 5,
     "metadata": {},
     "output_type": "execute_result"
    }
   ],
   "source": [
    "# 페이지 이동할 때 동적으로 기사 배열이 바뀌면서 일부 뉴스가 중복 수집되는 현상이 있습니다. 중복을 제거합니다. \n",
    "df_economy = df_economy.drop_duplicates()\n",
    "len(df_economy)"
   ]
  },
  {
   "cell_type": "code",
   "execution_count": 6,
   "metadata": {},
   "outputs": [],
   "source": [
    "# 데이터 저장\n",
    "df_economy.to_csv('daum_economy_news.csv', index=False)"
   ]
  }
 ],
 "metadata": {
  "kernelspec": {
   "display_name": "env",
   "language": "python",
   "name": "python3"
  },
  "language_info": {
   "codemirror_mode": {
    "name": "ipython",
    "version": 3
   },
   "file_extension": ".py",
   "mimetype": "text/x-python",
   "name": "python",
   "nbconvert_exporter": "python",
   "pygments_lexer": "ipython3",
   "version": "3.12.4"
  }
 },
 "nbformat": 4,
 "nbformat_minor": 2
}
