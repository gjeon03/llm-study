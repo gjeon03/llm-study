{
 "cells": [
  {
   "cell_type": "markdown",
   "metadata": {
    "id": "OlK44FRyPYaR"
   },
   "source": [
    "# Selenium - 동적 웹페이지 스크래핑"
   ]
  },
  {
   "cell_type": "code",
   "execution_count": null,
   "metadata": {
    "id": "lFW8zdecPYaU",
    "outputId": "6135423b-48cd-45d4-b004-049a77337d90"
   },
   "outputs": [],
   "source": [
    "# Seleium 드라이버 생성\n",
    "from selenium import webdriver\n",
    "from selenium.webdriver.chrome.service import Service\n",
    "from webdriver_manager.chrome import ChromeDriverManager\n",
    "\n",
    "# Chrome 옵션 설정\n",
    "options = webdriver.ChromeOptions()\n",
    "# options.add_argument('--headless')  # 화면없이 실행\n",
    "\n",
    "# 드라이버 서비스 생성\n",
    "service = Service(ChromeDriverManager().install())\n",
    "\n",
    "# 웹 드라이버 초기화\n",
    "driver = webdriver.Chrome(service=service, options=options)"
   ]
  },
  {
   "cell_type": "markdown",
   "metadata": {},
   "source": [
    "## 뉴스 서비스에 접속"
   ]
  },
  {
   "cell_type": "code",
   "execution_count": null,
   "metadata": {
    "id": "sTuUOrlePYaV"
   },
   "outputs": [],
   "source": [
    "# 뉴스 사이트\n",
    "url = \"https://news.daum.net/\"\n",
    "\n",
    "driver.get(url)"
   ]
  },
  {
   "cell_type": "code",
   "execution_count": null,
   "metadata": {
    "id": "9zV4LKsEPYaW"
   },
   "outputs": [],
   "source": [
    "# 페이지 소스 가져오기\n",
    "from bs4 import BeautifulSoup\n",
    "page_source = driver.page_source\n",
    "\n",
    "soup = BeautifulSoup(page_source, 'html.parser')\n",
    "\n",
    "# 태그 검색\n",
    "print('title 태그 요소: ', soup.title)\n",
    "print('title 태그 이름: ', soup.title.name)\n",
    "print('title 태그 문자열: ', soup.title.text)"
   ]
  },
  {
   "cell_type": "markdown",
   "metadata": {},
   "source": [
    "## 경제 카테고리를 선택"
   ]
  },
  {
   "cell_type": "code",
   "execution_count": null,
   "metadata": {
    "id": "sb2mItsxPYaW"
   },
   "outputs": [],
   "source": [
    "from selenium.webdriver.common.by import By\n",
    "\n",
    "# 경제 뉴스 클릭\n",
    "economy = driver.find_element(By.CSS_SELECTOR, '#gnbContent > div > ul > li:nth-child(4) > a > span')\n",
    "economy"
   ]
  },
  {
   "cell_type": "code",
   "execution_count": null,
   "metadata": {},
   "outputs": [],
   "source": [
    "economy.click()\n",
    "\n",
    "driver.implicitly_wait(5)"
   ]
  },
  {
   "cell_type": "code",
   "execution_count": null,
   "metadata": {},
   "outputs": [],
   "source": [
    "# 페이지 소스 가져오기\n",
    "\n",
    "soup = BeautifulSoup(driver.page_source, 'html.parser')\n",
    "\n",
    "# 실시간 경제 뉴스 검색\n",
    "news = soup.select('#timeline > ul > li')\n",
    "len(news)"
   ]
  },
  {
   "cell_type": "code",
   "execution_count": null,
   "metadata": {},
   "outputs": [],
   "source": [
    "news[0]"
   ]
  },
  {
   "cell_type": "code",
   "execution_count": null,
   "metadata": {},
   "outputs": [],
   "source": [
    "news[0].select(\"a.link_txt\")[0].text.strip()"
   ]
  },
  {
   "cell_type": "code",
   "execution_count": null,
   "metadata": {},
   "outputs": [],
   "source": [
    "news[0].select_one(\"a.link_txt\").text.strip()"
   ]
  },
  {
   "cell_type": "code",
   "execution_count": null,
   "metadata": {},
   "outputs": [],
   "source": [
    "# 데이터 추출하여 정리\n",
    "data = {'title':[], 'agency':[], 'category':[], 'link':[]}\n",
    "\n",
    "for item in news:\n",
    "    title = item.select_one('strong > a').text\n",
    "    agency = item.select_one('span.info_cp').text\n",
    "    category = '경제'\n",
    "    link = item.select_one('strong > a')['href']\n",
    "    \n",
    "    data['title'].append(title)\n",
    "    data['agency'].append(agency)\n",
    "    data['category'].append(category)\n",
    "    data['link'].append(link)\n",
    "\n",
    "\n",
    "# 데이터 프레임 생성\n",
    "import pandas as pd\n",
    "df = pd.DataFrame(data)\n",
    "df.head()"
   ]
  },
  {
   "cell_type": "code",
   "execution_count": null,
   "metadata": {},
   "outputs": [],
   "source": [
    "len(df)"
   ]
  },
  {
   "cell_type": "markdown",
   "metadata": {},
   "source": [
    "## 페이지 이동하면서 반복적으로 수집"
   ]
  },
  {
   "cell_type": "code",
   "execution_count": null,
   "metadata": {},
   "outputs": [],
   "source": [
    "# 페이지네이션 배열\n",
    "#timeline > div > div > a\n",
    "\n",
    "page_numbers = driver.find_elements(By.CSS_SELECTOR, '#timeline > div > div > a')\n",
    "len(page_numbers)"
   ]
  },
  {
   "cell_type": "code",
   "execution_count": null,
   "metadata": {},
   "outputs": [],
   "source": [
    "page_numbers[0]"
   ]
  },
  {
   "cell_type": "code",
   "execution_count": null,
   "metadata": {},
   "outputs": [],
   "source": [
    "for p in page_numbers:\n",
    "    print(p.text)"
   ]
  },
  {
   "cell_type": "code",
   "execution_count": null,
   "metadata": {},
   "outputs": [],
   "source": [
    "current_page = 1"
   ]
  },
  {
   "cell_type": "code",
   "execution_count": null,
   "metadata": {},
   "outputs": [],
   "source": [
    "for p in page_numbers:\n",
    "    print(p.text)\n",
    "    if (p.text != '다음') and (int(p.text) == current_page + 1):\n",
    "        p.click()\n",
    "        driver.implicitly_wait(5)\n",
    "        current_page = current_page + 1\n",
    "        print(p.text, current_page)\n",
    "        break"
   ]
  },
  {
   "cell_type": "code",
   "execution_count": null,
   "metadata": {},
   "outputs": [],
   "source": [
    "current_page"
   ]
  },
  {
   "cell_type": "code",
   "execution_count": null,
   "metadata": {},
   "outputs": [],
   "source": [
    "# 페이지 소스 가져오기\n",
    "soup = BeautifulSoup(driver.page_source, 'html.parser')\n",
    "\n",
    "# 실시간 경제 뉴스 검색\n",
    "news = soup.select('#timeline > ul > li')\n",
    "len(news)"
   ]
  },
  {
   "cell_type": "code",
   "execution_count": null,
   "metadata": {},
   "outputs": [],
   "source": [
    "# 뉴스 추출하여 기존 데이터에 추가\n",
    "for item in news:\n",
    "    title = item.select_one('strong > a').text\n",
    "    agency = item.select_one('span.info_cp').text\n",
    "    category = '경제'\n",
    "    link = item.select_one('strong > a')['href']\n",
    "    \n",
    "    data['title'].append(title)\n",
    "    data['agency'].append(agency)\n",
    "    data['category'].append(category)\n",
    "    data['link'].append(link)\n",
    "\n",
    "\n",
    "# 데이터 프레임 생성\n",
    "df = pd.DataFrame(data)\n",
    "print(len(df))\n",
    "\n",
    "df.head()"
   ]
  },
  {
   "cell_type": "code",
   "execution_count": null,
   "metadata": {},
   "outputs": [],
   "source": [
    "# 드라이버 종료\n",
    "driver.close()"
   ]
  },
  {
   "cell_type": "code",
   "execution_count": null,
   "metadata": {},
   "outputs": [],
   "source": [
    "# 페이지를 이동하면서 데이터를 수집하여 정리하는 함수\n",
    "def get_news(driver, category):\n",
    "\n",
    "    data = {'title':[], 'agency':[], 'category':[], 'link':[]}\n",
    "\n",
    "    current_page = 1\n",
    "    \n",
    "    while current_page < 6:\n",
    "        try:\n",
    "            soup = BeautifulSoup(driver.page_source, 'html.parser')\n",
    "            news = soup.select('#timeline > ul > li')\n",
    "            \n",
    "            for item in news:\n",
    "                title = item.select_one('strong > a').text\n",
    "                agency = item.select_one('span.info_cp').text\n",
    "                link = item.select_one('strong > a')['href']\n",
    "                \n",
    "                data['title'].append(title)\n",
    "                data['agency'].append(agency)\n",
    "                data['category'].append(category)\n",
    "                data['link'].append(link)\n",
    "            \n",
    "            page_numbers = driver.find_elements(By.CSS_SELECTOR, '#timeline > div > div > a')\n",
    "            driver.implicitly_wait(5)\n",
    "            \n",
    "            for p in page_numbers:\n",
    "                if (p.text != '다음') and (int(p.text) == current_page + 1):\n",
    "                    p.click()\n",
    "                    driver.implicitly_wait(5)\n",
    "                    current_page = current_page + 1\n",
    "                    print(p.text, current_page)\n",
    "                    break        \n",
    "\n",
    "        except:\n",
    "            pass\n",
    "    \n",
    "    df = pd.DataFrame(data)\n",
    "    \n",
    "    driver.close()\n",
    "\n",
    "    return df"
   ]
  },
  {
   "cell_type": "code",
   "execution_count": null,
   "metadata": {},
   "outputs": [],
   "source": [
    "# 웹 드라이버 초기화\n",
    "driver = webdriver.Chrome(service=service, options=options)"
   ]
  },
  {
   "cell_type": "code",
   "execution_count": null,
   "metadata": {},
   "outputs": [],
   "source": [
    "# 뉴스 사이트 접속\n",
    "url = \"https://news.daum.net/\"\n",
    "driver.get(url)"
   ]
  },
  {
   "cell_type": "code",
   "execution_count": null,
   "metadata": {},
   "outputs": [],
   "source": [
    "# 뉴스 카테고리 메뉴 배열\n",
    "category_tabs = driver.find_elements(By.CSS_SELECTOR, '#gnbContent > div > ul > li')\n",
    "category_tabs"
   ]
  },
  {
   "cell_type": "code",
   "execution_count": null,
   "metadata": {},
   "outputs": [],
   "source": [
    "category_tabs[3].text"
   ]
  },
  {
   "cell_type": "code",
   "execution_count": null,
   "metadata": {},
   "outputs": [],
   "source": [
    "category_dict = {item.text:item for item in category_tabs}\n",
    "category_dict"
   ]
  },
  {
   "cell_type": "code",
   "execution_count": null,
   "metadata": {},
   "outputs": [],
   "source": [
    "# 경제 뉴스 클릭\n",
    "category_dict['경제'].click()\n",
    "driver.implicitly_wait(5)"
   ]
  },
  {
   "cell_type": "code",
   "execution_count": null,
   "metadata": {},
   "outputs": [],
   "source": [
    "# 데이터 수집\n",
    "df_economy = get_news(driver, '경제')\n",
    "print(len(df_economy))\n",
    "\n",
    "df_economy.head()"
   ]
  },
  {
   "cell_type": "code",
   "execution_count": null,
   "metadata": {},
   "outputs": [],
   "source": [
    "# 페이지 이동할 때 동적으로 기사 배열이 바뀌면서 일부 뉴스가 중복 수집되는 현상이 있습니다. 중복을 제거합니다. \n",
    "df_economy = df_economy.drop_duplicates()\n",
    "len(df_economy)"
   ]
  },
  {
   "cell_type": "code",
   "execution_count": null,
   "metadata": {},
   "outputs": [],
   "source": [
    "# 데이터 저장\n",
    "df_economy.to_csv('daum_economy_news.csv', index=False)"
   ]
  },
  {
   "cell_type": "code",
   "execution_count": null,
   "metadata": {},
   "outputs": [],
   "source": []
  }
 ],
 "metadata": {
  "colab": {
   "provenance": []
  },
  "kernelspec": {
   "display_name": "study",
   "language": "python",
   "name": "study"
  },
  "language_info": {
   "codemirror_mode": {
    "name": "ipython",
    "version": 3
   },
   "file_extension": ".py",
   "mimetype": "text/x-python",
   "name": "python",
   "nbconvert_exporter": "python",
   "pygments_lexer": "ipython3",
   "version": "3.11.0"
  }
 },
 "nbformat": 4,
 "nbformat_minor": 4
}
